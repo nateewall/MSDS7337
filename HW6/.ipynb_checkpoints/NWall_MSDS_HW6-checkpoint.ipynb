{
 "cells": [
  {
   "cell_type": "markdown",
   "metadata": {},
   "source": [
    "# MSDS 7337 Homework 6\n",
    "\n",
    "Author: Nathan Wall\n",
    "\n",
    "Date: 7/16/2019\n",
    "\n",
    "The notebook below works through the questions as part of the homework 6.\n",
    "\n",
    "Notebook Sections:\n",
    "- [Q1: Evaluate text similarity of Amazon book search](#q1)\n",
    "- [Q2: Evaluate using a major search engine.](#q2)"
   ]
  },
  {
   "cell_type": "code",
   "execution_count": 1,
   "metadata": {},
   "outputs": [],
   "source": [
    "import pandas as pd\n",
    "import numpy as np\n",
    "import requests\n",
    "import json\n",
    "import nltk\n",
    "from bs4 import BeautifulSoup"
   ]
  },
  {
   "cell_type": "markdown",
   "metadata": {},
   "source": [
    "## Q1: Evaluate text similarity of Amazon book search\n",
    "<a id='q1'></a>"
   ]
  },
  {
   "cell_type": "markdown",
   "metadata": {},
   "source": [
    "#### a) Manually copy the full book title (including subtitle) of each of the top 24 books listed in the first two pages of search results.\n",
    "For this I am creating and array of books from the Amazon NY Times Best Seller list"
   ]
  },
  {
   "cell_type": "code",
   "execution_count": 13,
   "metadata": {},
   "outputs": [
    {
     "data": {
      "text/plain": [
       "24"
      ]
     },
     "execution_count": 13,
     "metadata": {},
     "output_type": "execute_result"
    }
   ],
   "source": [
    "best_sellers = [\n",
    "                \"Where the Crawdads Sing\",\n",
    "                \"Summer of '69\",\n",
    "                \"Evvie Drake Starts Over: A Novel\",\n",
    "                \"Backlash: A Thriller\",\n",
    "                \"City of Girls: A Novel\",\n",
    "                \"Lost and Found: A Novel\",\n",
    "                \"Mrs. Everything: A Novel\",\n",
    "                \"Unsolved (Invisible)\",\n",
    "                \"Lock Every Door: A Novel\",\n",
    "                \"On Earth We're Briefly Gorgeous: A Novel\",\n",
    "                \"Tom Clancy Enemy Contact (A Jack Ryan Jr. Novel)\",\n",
    "                \"Whisper Network: A Novel\",\n",
    "                \"Girls Like Us\",\n",
    "                \"The Silent Patient\",\n",
    "                \"Surfside Sisters: A Novel\",\n",
    "                \"Before We Were Yours: A Novel\",\n",
    "                \"The Tattooist of Auschwitz: A Novel\",\n",
    "                \"Little Fires Everywhere: A Novel\",\n",
    "                \"The Reckoning: A Novel\",\n",
    "                \"The Woman in the Window: A Novel\",\n",
    "                \"The Outsider: A Novel\",\n",
    "                \"Eleanor Oliphant Is Completely Fine: A Novel\",\n",
    "                \"A Gentleman in Moscow: A Novel\",\n",
    "                \"Good Omens: The Nice and Accurate Prophecies of Agnes Nutter, Witch\"\n",
    "               ]\n",
    "\n",
    "len(best_sellers)"
   ]
  },
  {
   "cell_type": "markdown",
   "metadata": {},
   "source": [
    "#### b) Compare each of the book titles based on cosine similarity, pairwise, to every other one. "
   ]
  },
  {
   "cell_type": "code",
   "execution_count": 14,
   "metadata": {},
   "outputs": [],
   "source": [
    "#convert titles to tfidf\n",
    "from sklearn.feature_extraction.text import TfidfVectorizer\n",
    "tf = TfidfVectorizer(lowercase = False)\n",
    "tfidf = tf.fit_transform(best_sellers)\n",
    "##Then getting matrix of similarities between all consist is pretty simple\n",
    "cos_sim = (tfidf * tfidf.T).toarray()"
   ]
  },
  {
   "cell_type": "code",
   "execution_count": 18,
   "metadata": {},
   "outputs": [
    {
     "data": {
      "text/plain": [
       "(24, 24)"
      ]
     },
     "execution_count": 18,
     "metadata": {},
     "output_type": "execute_result"
    }
   ],
   "source": [
    "cos_sim.shape"
   ]
  },
  {
   "cell_type": "markdown",
   "metadata": {},
   "source": [
    "#### c) Which two titles are the most similar to each other? Which are the most dissimilar? Where do they rank, among the first 24 results?"
   ]
  },
  {
   "cell_type": "code",
   "execution_count": 22,
   "metadata": {},
   "outputs": [],
   "source": [
    "length, width = cos_sim.shape"
   ]
  },
  {
   "cell_type": "code",
   "execution_count": 35,
   "metadata": {},
   "outputs": [
    {
     "name": "stdout",
     "output_type": "stream",
     "text": [
      "0.04436235742252685\n"
     ]
    }
   ],
   "source": [
    "print(cos_sim[2,4])"
   ]
  },
  {
   "cell_type": "markdown",
   "metadata": {},
   "source": [
    "Most Similar Titles"
   ]
  },
  {
   "cell_type": "code",
   "execution_count": 46,
   "metadata": {
    "scrolled": true
   },
   "outputs": [
    {
     "name": "stdout",
     "output_type": "stream",
     "text": [
      "The most similar book titles have a cosine similarity of 0.357983425264676\n",
      "The 18 ranked booked is 'The Reckoning: A Novel'\n",
      "The 20 ranked booked is 'The Outsider: A Novel'\n"
     ]
    }
   ],
   "source": [
    "max_value = 0.0\n",
    "row = None\n",
    "col = None\n",
    "\n",
    "for l in range(length):\n",
    "    for w in range(width):\n",
    "        if l == w:\n",
    "            continue\n",
    "        else:\n",
    "            if cos_sim[l,w] > max_value: \n",
    "                max_value = cos_sim[l,w]\n",
    "                row = l\n",
    "                col = w\n",
    "                \n",
    "        \n",
    "print(\"The most similar book titles have a cosine similarity of {}\".format(max_value))\n",
    "print(\"The {r} ranked booked is '{t}'\".format(r=row, t=best_sellers[row]))\n",
    "print(\"The {c} ranked booked is '{t}'\".format(c=col, t=best_sellers[col]))"
   ]
  },
  {
   "cell_type": "markdown",
   "metadata": {},
   "source": [
    "A rather uninteresting result as most of the similarity is likely based on the short titles begining with \"The\" and having \"A Novel\" as the subtitle.\n",
    "\n",
    "It is interesting that they are both ranked near the bottom of the list"
   ]
  },
  {
   "cell_type": "markdown",
   "metadata": {},
   "source": [
    "Least Similiar Titles\n",
    "\n",
    "As 0 represents the most dissimilar titles we will only focus on the most dissimilar with a cosine similarity > 0 "
   ]
  },
  {
   "cell_type": "code",
   "execution_count": 49,
   "metadata": {
    "scrolled": true
   },
   "outputs": [
    {
     "name": "stdout",
     "output_type": "stream",
     "text": [
      "The most dissimilar book titles have a cosine similarity of 0.021825645710184492\n",
      "The 9 ranked booked is 'On Earth We're Briefly Gorgeous: A Novel'\n",
      "The 10 ranked booked is 'Tom Clancy Enemy Contact (A Jack Ryan Jr. Novel)'\n"
     ]
    }
   ],
   "source": [
    "min_value = 1.0\n",
    "row = None\n",
    "col = None\n",
    "\n",
    "for l in range(length):\n",
    "    for w in range(width):\n",
    "        if l == w:\n",
    "            continue\n",
    "        if cos_sim[l,w] == 0:\n",
    "            continue\n",
    "        else:\n",
    "            if cos_sim[l,w] < min_value: \n",
    "                min_value = cos_sim[l,w]\n",
    "                row = l\n",
    "                col = w\n",
    "                \n",
    "        \n",
    "print(\"The most dissimilar book titles have a cosine similarity of {}\".format(min_value))\n",
    "print(\"The {r} ranked booked is '{t}'\".format(r=row, t=best_sellers[row]))\n",
    "print(\"The {c} ranked booked is '{t}'\".format(c=col, t=best_sellers[col]))"
   ]
  },
  {
   "cell_type": "markdown",
   "metadata": {},
   "source": [
    "This is a little bit more interesting result as the two titles seem to be from drastically different types of books. The only real overlapping text is \"Novel\" so I think this is an interesting finding."
   ]
  },
  {
   "cell_type": "markdown",
   "metadata": {},
   "source": [
    "## Q2: Evaluate text similarity based on search engine results\n",
    "<a id='q2'></a>"
   ]
  },
  {
   "cell_type": "markdown",
   "metadata": {},
   "source": [
    "#### a) Copy the capsule of the first organic result and the 20th organic result."
   ]
  },
  {
   "cell_type": "markdown",
   "metadata": {},
   "source": [
    "We pull the capsules and corresponding titles below:"
   ]
  },
  {
   "cell_type": "code",
   "execution_count": 51,
   "metadata": {},
   "outputs": [],
   "source": [
    "title = 'Evvie Drake Starts Over: A Novel'\n",
    "capsule1 = \"Evvie Drake Starts Over is a heartwarming rom-com about loss, grief and second chances…. Despite the kernel of sadness rooted at the novel's core, Evvie Drake Starts Over is a feel-good read that radiates warmth.\"\n",
    "capsule20 = \"NEW YORK TIMES BESTSELLER • #ReadWithJenna Book Club Pick as Featured on Today • “Everything a romantic comedy should be: witty, relatable, and a ...\""
   ]
  },
  {
   "cell_type": "markdown",
   "metadata": {},
   "source": [
    "#### b) Run the same text similarity calculation that you used for question 1b on each of these capsules in comparison to the original query."
   ]
  },
  {
   "cell_type": "code",
   "execution_count": 59,
   "metadata": {},
   "outputs": [
    {
     "data": {
      "text/plain": [
       "0.4609026510864952"
      ]
     },
     "execution_count": 59,
     "metadata": {},
     "output_type": "execute_result"
    }
   ],
   "source": [
    "from sklearn.feature_extraction.text import TfidfVectorizer\n",
    "compare_a = [title.lower(), capsule1.lower()]\n",
    "\n",
    "tf = TfidfVectorizer(lowercase = False)\n",
    "tfidf = tf.fit_transform(compare_a)\n",
    "##Then getting matrix of similarities between all consist is pretty simple\n",
    "cos_sim_a = (tfidf * tfidf.T).toarray()\n",
    "cos_sim_a[0,1]"
   ]
  },
  {
   "cell_type": "code",
   "execution_count": 64,
   "metadata": {},
   "outputs": [
    {
     "data": {
      "text/plain": [
       "0.0"
      ]
     },
     "execution_count": 64,
     "metadata": {},
     "output_type": "execute_result"
    }
   ],
   "source": [
    "compare_b = [title.lower(), capsule20.lower()]\n",
    "\n",
    "tfidf = tf.fit_transform(compare_b)\n",
    "##Then getting matrix of similarities between all consist is pretty simple\n",
    "cos_sim_b = (tfidf * tfidf.T).toarray()\n",
    "cos_sim_b[0,1]"
   ]
  },
  {
   "cell_type": "markdown",
   "metadata": {},
   "source": [
    "#### c) Which one has the highest similarity measure? "
   ]
  },
  {
   "cell_type": "markdown",
   "metadata": {},
   "source": [
    "The highest similarity score with the title is the from Capsule 1 based on the results of a google search. That first capsule has a cosine similarity of 0.46 with the title. This overlap is largely driven by the fact that the capsule from the first search link has the entire book title in the capsule two times. However, capsule 20 had a cosine similarity score of 0.0! When looking at it the two texts you can see they share nothing in common & the capsule focuses on the New York Times the webpages book club rather than the book itself.\n",
    "\n",
    "It makes since that there is such a drastic difference between the similarity scores as Google ranks the links they display based on well the links content matches with the search. This was an interesting confirmation that text similarity plays and important role in Google's PageRank algorithm."
   ]
  },
  {
   "cell_type": "code",
   "execution_count": null,
   "metadata": {},
   "outputs": [],
   "source": []
  }
 ],
 "metadata": {
  "kernelspec": {
   "display_name": "Python 3",
   "language": "python",
   "name": "python3"
  },
  "language_info": {
   "codemirror_mode": {
    "name": "ipython",
    "version": 3
   },
   "file_extension": ".py",
   "mimetype": "text/x-python",
   "name": "python",
   "nbconvert_exporter": "python",
   "pygments_lexer": "ipython3",
   "version": "3.7.3"
  }
 },
 "nbformat": 4,
 "nbformat_minor": 2
}
