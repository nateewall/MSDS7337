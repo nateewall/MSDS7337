{
 "cells": [
  {
   "cell_type": "markdown",
   "metadata": {},
   "source": [
    "# MSDS 7337 Homework 5\n",
    "\n",
    "Author: Nathan Wall\n",
    "\n",
    "Date: 7/2/2019\n",
    "\n",
    "The notebook below works through the questions as part of the homework 5. This will utilize comments \n",
    "\n",
    "Notebook Sections:\n",
    "- [Q1: Collect User Review Permalinks](#q1)\n",
    "- [Q2: Extract Noun Phrase Chunks](#q2)\n",
    "- [Q3: Output all Chunks & Summary](#q3)"
   ]
  },
  {
   "cell_type": "code",
   "execution_count": 15,
   "metadata": {},
   "outputs": [],
   "source": [
    "import pandas as pd\n",
    "import numpy as np\n",
    "import requests\n",
    "import json\n",
    "import nltk\n",
    "from bs4 import BeautifulSoup"
   ]
  },
  {
   "cell_type": "markdown",
   "metadata": {},
   "source": [
    "## Q1: Collect User Review Links from IMDB\n",
    "<a id='q1'></a>\n",
    "\n",
    "Below we set up method to scrape user reviews from IMDB's website. Per the question below we makes sure we meet the following criteria:\n",
    "\n",
    "1) All the reviews are from the same genre\n",
    "\n",
    "2) Capture reviews from several movies\n",
    "\n",
    "3) Collect both positive & negative reviews"
   ]
  },
  {
   "cell_type": "markdown",
   "metadata": {},
   "source": [
    "First lets get the list of movies from the genre of interest"
   ]
  },
  {
   "cell_type": "code",
   "execution_count": 2,
   "metadata": {},
   "outputs": [],
   "source": [
    "def getMovies(genre):\n",
    "    page = requests.get('https://www.imdb.com/search/title/?genres='+genre) \n",
    "    soup = BeautifulSoup(page.content, 'html.parser')\n",
    "    #find the article links\n",
    "    soupTitle = soup.find_all('h3', {\"class\": \"lister-item-header\"})\n",
    "\n",
    "    links = []\n",
    "    titles = []\n",
    "    for s in soupTitle:\n",
    "        links.append('https://www.imdb.com' + s.find('a').get('href') + 'reviews')\n",
    "        titles.append(s.find('a').text)\n",
    "\n",
    "    title_df = pd.DataFrame(list(zip(titles, links)), columns = ['title', 'link'])\n",
    "    return title_df"
   ]
  },
  {
   "cell_type": "code",
   "execution_count": 3,
   "metadata": {},
   "outputs": [],
   "source": [
    "genre = 'crime'\n",
    "title_df = getMovies(genre)"
   ]
  },
  {
   "cell_type": "code",
   "execution_count": 4,
   "metadata": {},
   "outputs": [
    {
     "data": {
      "text/html": [
       "<div>\n",
       "<style scoped>\n",
       "    .dataframe tbody tr th:only-of-type {\n",
       "        vertical-align: middle;\n",
       "    }\n",
       "\n",
       "    .dataframe tbody tr th {\n",
       "        vertical-align: top;\n",
       "    }\n",
       "\n",
       "    .dataframe thead th {\n",
       "        text-align: right;\n",
       "    }\n",
       "</style>\n",
       "<table border=\"1\" class=\"dataframe\">\n",
       "  <thead>\n",
       "    <tr style=\"text-align: right;\">\n",
       "      <th></th>\n",
       "      <th>title</th>\n",
       "      <th>link</th>\n",
       "    </tr>\n",
       "  </thead>\n",
       "  <tbody>\n",
       "    <tr>\n",
       "      <th>0</th>\n",
       "      <td>Dark</td>\n",
       "      <td>https://www.imdb.com/title/tt5753856/reviews</td>\n",
       "    </tr>\n",
       "    <tr>\n",
       "      <th>1</th>\n",
       "      <td>Murder Mystery</td>\n",
       "      <td>https://www.imdb.com/title/tt1618434/reviews</td>\n",
       "    </tr>\n",
       "    <tr>\n",
       "      <th>2</th>\n",
       "      <td>Big Little Lies</td>\n",
       "      <td>https://www.imdb.com/title/tt3920596/reviews</td>\n",
       "    </tr>\n",
       "    <tr>\n",
       "      <th>3</th>\n",
       "      <td>Lucifer</td>\n",
       "      <td>https://www.imdb.com/title/tt4052886/reviews</td>\n",
       "    </tr>\n",
       "    <tr>\n",
       "      <th>4</th>\n",
       "      <td>Jessica Jones</td>\n",
       "      <td>https://www.imdb.com/title/tt2357547/reviews</td>\n",
       "    </tr>\n",
       "  </tbody>\n",
       "</table>\n",
       "</div>"
      ],
      "text/plain": [
       "             title                                          link\n",
       "0             Dark  https://www.imdb.com/title/tt5753856/reviews\n",
       "1   Murder Mystery  https://www.imdb.com/title/tt1618434/reviews\n",
       "2  Big Little Lies  https://www.imdb.com/title/tt3920596/reviews\n",
       "3          Lucifer  https://www.imdb.com/title/tt4052886/reviews\n",
       "4    Jessica Jones  https://www.imdb.com/title/tt2357547/reviews"
      ]
     },
     "execution_count": 4,
     "metadata": {},
     "output_type": "execute_result"
    }
   ],
   "source": [
    "title_df.head()"
   ]
  },
  {
   "cell_type": "markdown",
   "metadata": {},
   "source": [
    "Using the links to user review pages extracted from the genre above we scrape all the user review permalinks for the movie & shows."
   ]
  },
  {
   "cell_type": "code",
   "execution_count": 5,
   "metadata": {},
   "outputs": [],
   "source": [
    "def getReviewLinks(link):\n",
    "    page = requests.get(link)\n",
    "    soup = BeautifulSoup(page.content, 'html.parser')\n",
    "    reviewPage = soup.find_all('a', {\"class\": \"title\"})\n",
    "    reviewLinks = []\n",
    "    for r in reviewPage:\n",
    "        reviewLinks.append('https://www.imdb.com' + r.get('href'))\n",
    "\n",
    "    return reviewLinks"
   ]
  },
  {
   "cell_type": "code",
   "execution_count": 8,
   "metadata": {},
   "outputs": [],
   "source": [
    "reviews = []\n",
    "for link in title_df['link']:\n",
    "    reviews.append(getReviewLinks(link))\n",
    "\n",
    "title_df[\"reviewLinks\"] = reviews"
   ]
  },
  {
   "cell_type": "code",
   "execution_count": 9,
   "metadata": {},
   "outputs": [
    {
     "name": "stdout",
     "output_type": "stream",
     "text": [
      "Scraped review links for 50 Movie & TV Shows for the crime genre\n"
     ]
    }
   ],
   "source": [
    "print(\"Scraped review links for {m} Movie & TV Shows for the {g} genre\".format(m=len(title_df), g=genre))"
   ]
  },
  {
   "cell_type": "code",
   "execution_count": 10,
   "metadata": {},
   "outputs": [],
   "source": [
    "allReviews = title_df.reviewLinks.apply(pd.Series) \\\n",
    "    .merge(title_df, right_index = True, left_index = True) \\\n",
    "    .drop([\"reviewLinks\"], axis = 1) \\\n",
    "    .melt(id_vars = ['title', 'link'], value_name = \"reviewLink\") \\\n",
    "    .drop(\"variable\", axis = 1) \\\n",
    "    .dropna()"
   ]
  },
  {
   "cell_type": "code",
   "execution_count": 11,
   "metadata": {},
   "outputs": [
    {
     "name": "stdout",
     "output_type": "stream",
     "text": [
      "1219 Total Reviews for Movie & TV Shows from the crime genre\n"
     ]
    }
   ],
   "source": [
    "print(\"{r} Total Reviews for Movie & TV Shows from the {g} genre\".format(r=len(allReviews), g=genre))"
   ]
  },
  {
   "cell_type": "markdown",
   "metadata": {},
   "source": [
    "This ends the neccesary steps for question 1. We now have a dataframe of all the user reviews for the top 50 movies from the crime genre. However, the function is set up to be able to perform this task on any of the genres defined on the IMBD website, https://www.imdb.com/feature/genre/.\n",
    "\n",
    "In the next section we will pull out the actual review text."
   ]
  },
  {
   "cell_type": "markdown",
   "metadata": {},
   "source": [
    "## Q2: Extract User Review Noun Phrases (NP)\n",
    "<a id='q2'></a>\n",
    "\n",
    "Using the review permalinks extracted we will pull out the review text."
   ]
  },
  {
   "cell_type": "code",
   "execution_count": 12,
   "metadata": {},
   "outputs": [],
   "source": [
    "def getReview(link):\n",
    "    page = requests.get(link) \n",
    "    soup = BeautifulSoup(page.content, 'html.parser')\n",
    "    review = soup.find_all('script', {\"type\": \"application/ld+json\"})\n",
    "    reviewJSON = json.loads(review[0].get_text())\n",
    "    try:\n",
    "        reviewText = reviewJSON['reviewBody']\n",
    "    except:\n",
    "        reviewText = reviewJSON['name']\n",
    "    return reviewText"
   ]
  },
  {
   "cell_type": "code",
   "execution_count": 13,
   "metadata": {},
   "outputs": [],
   "source": [
    "reviewText = []\n",
    "for link in allReviews[\"reviewLink\"]:\n",
    "    reviewText.append(getReview(link))\n",
    "\n",
    "allReviews[\"reviewText\"] = reviewText"
   ]
  },
  {
   "cell_type": "code",
   "execution_count": 14,
   "metadata": {},
   "outputs": [
    {
     "data": {
      "text/html": [
       "<div>\n",
       "<style scoped>\n",
       "    .dataframe tbody tr th:only-of-type {\n",
       "        vertical-align: middle;\n",
       "    }\n",
       "\n",
       "    .dataframe tbody tr th {\n",
       "        vertical-align: top;\n",
       "    }\n",
       "\n",
       "    .dataframe thead th {\n",
       "        text-align: right;\n",
       "    }\n",
       "</style>\n",
       "<table border=\"1\" class=\"dataframe\">\n",
       "  <thead>\n",
       "    <tr style=\"text-align: right;\">\n",
       "      <th></th>\n",
       "      <th>title</th>\n",
       "      <th>link</th>\n",
       "      <th>reviewLink</th>\n",
       "      <th>reviewText</th>\n",
       "    </tr>\n",
       "  </thead>\n",
       "  <tbody>\n",
       "    <tr>\n",
       "      <th>0</th>\n",
       "      <td>Dark</td>\n",
       "      <td>https://www.imdb.com/title/tt5753856/reviews</td>\n",
       "      <td>https://www.imdb.com/review/rw4949287/</td>\n",
       "      <td>Insanely good, every episode shocks you in way...</td>\n",
       "    </tr>\n",
       "    <tr>\n",
       "      <th>1</th>\n",
       "      <td>Murder Mystery</td>\n",
       "      <td>https://www.imdb.com/title/tt1618434/reviews</td>\n",
       "      <td>https://www.imdb.com/review/rw4934621/</td>\n",
       "      <td>A nice easy breezy murder mystery. Full of fun...</td>\n",
       "    </tr>\n",
       "    <tr>\n",
       "      <th>2</th>\n",
       "      <td>Big Little Lies</td>\n",
       "      <td>https://www.imdb.com/title/tt3920596/reviews</td>\n",
       "      <td>https://www.imdb.com/review/rw3649582/</td>\n",
       "      <td>Exquisite. 'Big Little Lies' takes us to an in...</td>\n",
       "    </tr>\n",
       "    <tr>\n",
       "      <th>3</th>\n",
       "      <td>Lucifer</td>\n",
       "      <td>https://www.imdb.com/title/tt4052886/reviews</td>\n",
       "      <td>https://www.imdb.com/review/rw4838256/</td>\n",
       "      <td>Thank Luci himself that fox cancelled this sho...</td>\n",
       "    </tr>\n",
       "    <tr>\n",
       "      <th>4</th>\n",
       "      <td>Jessica Jones</td>\n",
       "      <td>https://www.imdb.com/title/tt2357547/reviews</td>\n",
       "      <td>https://www.imdb.com/review/rw4086289/</td>\n",
       "      <td>This review pains me to write, because I genui...</td>\n",
       "    </tr>\n",
       "  </tbody>\n",
       "</table>\n",
       "</div>"
      ],
      "text/plain": [
       "             title                                          link  \\\n",
       "0             Dark  https://www.imdb.com/title/tt5753856/reviews   \n",
       "1   Murder Mystery  https://www.imdb.com/title/tt1618434/reviews   \n",
       "2  Big Little Lies  https://www.imdb.com/title/tt3920596/reviews   \n",
       "3          Lucifer  https://www.imdb.com/title/tt4052886/reviews   \n",
       "4    Jessica Jones  https://www.imdb.com/title/tt2357547/reviews   \n",
       "\n",
       "                               reviewLink  \\\n",
       "0  https://www.imdb.com/review/rw4949287/   \n",
       "1  https://www.imdb.com/review/rw4934621/   \n",
       "2  https://www.imdb.com/review/rw3649582/   \n",
       "3  https://www.imdb.com/review/rw4838256/   \n",
       "4  https://www.imdb.com/review/rw4086289/   \n",
       "\n",
       "                                          reviewText  \n",
       "0  Insanely good, every episode shocks you in way...  \n",
       "1  A nice easy breezy murder mystery. Full of fun...  \n",
       "2  Exquisite. 'Big Little Lies' takes us to an in...  \n",
       "3  Thank Luci himself that fox cancelled this sho...  \n",
       "4  This review pains me to write, because I genui...  "
      ]
     },
     "execution_count": 14,
     "metadata": {},
     "output_type": "execute_result"
    }
   ],
   "source": [
    "allReviews.head()"
   ]
  },
  {
   "cell_type": "markdown",
   "metadata": {},
   "source": [
    "We now have all the reviews for the movie & TV shows from our genre. We will run this through a chunker to extract all of the noun phrases.\n",
    "\n",
    "For this initial process we will use the rudimentary rules bases chunker from the NLTK book, although will likely use spaCy or something more intelligent in future assignments. "
   ]
  },
  {
   "cell_type": "code",
   "execution_count": 17,
   "metadata": {},
   "outputs": [],
   "source": [
    "#define the regex rule for noun phrases\n",
    "grammar = ('''\n",
    "    NP: {<DT>?<JJ>*<NN>} # NP\n",
    "    ''')\n",
    "#create chunker\n",
    "chunkParser = nltk.RegexpParser(grammar)"
   ]
  },
  {
   "cell_type": "code",
   "execution_count": 23,
   "metadata": {},
   "outputs": [],
   "source": [
    "def chunkReview(review):\n",
    "    sent = nltk.sent_tokenize(review)\n",
    "    NP = []\n",
    "    for s in sent:\n",
    "        tagged = nltk.pos_tag(nltk.word_tokenize(s))\n",
    "        tree = chunkParser.parse(tagged)\n",
    "        for subtree in tree.subtrees():\n",
    "            if subtree.label() == \"NP\":\n",
    "                NP.append(subtree)\n",
    "    return NP"
   ]
  },
  {
   "cell_type": "code",
   "execution_count": 26,
   "metadata": {},
   "outputs": [
    {
     "data": {
      "text/html": [
       "<div>\n",
       "<style scoped>\n",
       "    .dataframe tbody tr th:only-of-type {\n",
       "        vertical-align: middle;\n",
       "    }\n",
       "\n",
       "    .dataframe tbody tr th {\n",
       "        vertical-align: top;\n",
       "    }\n",
       "\n",
       "    .dataframe thead th {\n",
       "        text-align: right;\n",
       "    }\n",
       "</style>\n",
       "<table border=\"1\" class=\"dataframe\">\n",
       "  <thead>\n",
       "    <tr style=\"text-align: right;\">\n",
       "      <th></th>\n",
       "      <th>title</th>\n",
       "      <th>link</th>\n",
       "      <th>reviewLink</th>\n",
       "      <th>reviewText</th>\n",
       "      <th>NP</th>\n",
       "    </tr>\n",
       "  </thead>\n",
       "  <tbody>\n",
       "    <tr>\n",
       "      <th>0</th>\n",
       "      <td>Dark</td>\n",
       "      <td>https://www.imdb.com/title/tt5753856/reviews</td>\n",
       "      <td>https://www.imdb.com/review/rw4949287/</td>\n",
       "      <td>Insanely good, every episode shocks you in way...</td>\n",
       "      <td>[[(every, DT), (episode, NN)], [(The, DT), (co...</td>\n",
       "    </tr>\n",
       "    <tr>\n",
       "      <th>1</th>\n",
       "      <td>Murder Mystery</td>\n",
       "      <td>https://www.imdb.com/title/tt1618434/reviews</td>\n",
       "      <td>https://www.imdb.com/review/rw4934621/</td>\n",
       "      <td>A nice easy breezy murder mystery. Full of fun...</td>\n",
       "      <td>[[(A, DT), (nice, JJ), (easy, JJ), (breezy, NN...</td>\n",
       "    </tr>\n",
       "    <tr>\n",
       "      <th>2</th>\n",
       "      <td>Big Little Lies</td>\n",
       "      <td>https://www.imdb.com/title/tt3920596/reviews</td>\n",
       "      <td>https://www.imdb.com/review/rw3649582/</td>\n",
       "      <td>Exquisite. 'Big Little Lies' takes us to an in...</td>\n",
       "      <td>[[(an, DT), (incredible, JJ), (journey, NN)], ...</td>\n",
       "    </tr>\n",
       "    <tr>\n",
       "      <th>3</th>\n",
       "      <td>Lucifer</td>\n",
       "      <td>https://www.imdb.com/title/tt4052886/reviews</td>\n",
       "      <td>https://www.imdb.com/review/rw4838256/</td>\n",
       "      <td>Thank Luci himself that fox cancelled this sho...</td>\n",
       "      <td>[[(fox, NN)], [(this, DT), (show, NN)], [(job,...</td>\n",
       "    </tr>\n",
       "    <tr>\n",
       "      <th>4</th>\n",
       "      <td>Jessica Jones</td>\n",
       "      <td>https://www.imdb.com/title/tt2357547/reviews</td>\n",
       "      <td>https://www.imdb.com/review/rw4086289/</td>\n",
       "      <td>This review pains me to write, because I genui...</td>\n",
       "      <td>[[(This, DT), (review, NN)], [(the, DT), (pinn...</td>\n",
       "    </tr>\n",
       "  </tbody>\n",
       "</table>\n",
       "</div>"
      ],
      "text/plain": [
       "             title                                          link  \\\n",
       "0             Dark  https://www.imdb.com/title/tt5753856/reviews   \n",
       "1   Murder Mystery  https://www.imdb.com/title/tt1618434/reviews   \n",
       "2  Big Little Lies  https://www.imdb.com/title/tt3920596/reviews   \n",
       "3          Lucifer  https://www.imdb.com/title/tt4052886/reviews   \n",
       "4    Jessica Jones  https://www.imdb.com/title/tt2357547/reviews   \n",
       "\n",
       "                               reviewLink  \\\n",
       "0  https://www.imdb.com/review/rw4949287/   \n",
       "1  https://www.imdb.com/review/rw4934621/   \n",
       "2  https://www.imdb.com/review/rw3649582/   \n",
       "3  https://www.imdb.com/review/rw4838256/   \n",
       "4  https://www.imdb.com/review/rw4086289/   \n",
       "\n",
       "                                          reviewText  \\\n",
       "0  Insanely good, every episode shocks you in way...   \n",
       "1  A nice easy breezy murder mystery. Full of fun...   \n",
       "2  Exquisite. 'Big Little Lies' takes us to an in...   \n",
       "3  Thank Luci himself that fox cancelled this sho...   \n",
       "4  This review pains me to write, because I genui...   \n",
       "\n",
       "                                                  NP  \n",
       "0  [[(every, DT), (episode, NN)], [(The, DT), (co...  \n",
       "1  [[(A, DT), (nice, JJ), (easy, JJ), (breezy, NN...  \n",
       "2  [[(an, DT), (incredible, JJ), (journey, NN)], ...  \n",
       "3  [[(fox, NN)], [(this, DT), (show, NN)], [(job,...  \n",
       "4  [[(This, DT), (review, NN)], [(the, DT), (pinn...  "
      ]
     },
     "execution_count": 26,
     "metadata": {},
     "output_type": "execute_result"
    }
   ],
   "source": [
    "allReviews['NP'] = allReviews[\"reviewText\"].apply(chunkReview)\n",
    "allReviews.head()"
   ]
  },
  {
   "cell_type": "markdown",
   "metadata": {},
   "source": [
    "We now have the Noun Phrases for all the reviews in our sample. Below we show an example of several chunked reviews & corresponding noun phrases specific to the show \"Dark\" on Netflix."
   ]
  },
  {
   "cell_type": "code",
   "execution_count": 48,
   "metadata": {},
   "outputs": [
    {
     "name": "stdout",
     "output_type": "stream",
     "text": [
      "----------------------------------\n",
      "Review Text\n",
      "----------------------------------\n",
      "Insanely good, every episode shocks you in ways you never thought was possible. The constant gripping revelations were so unexpected but tied the story so well together. Cannot wait for the next season\n",
      "----------------------------------\n",
      "Noun Phrases\n",
      "----------------------------------\n",
      "(NP every/DT episode/NN)\n",
      "(NP The/DT constant/JJ gripping/NN)\n",
      "(NP the/DT story/NN)\n",
      "(NP the/DT next/JJ season/NN)\n",
      "----------------------------------\n",
      "Review Text\n",
      "----------------------------------\n",
      "This show is the best thing Netflix has done. It is an absolute masterpiece of story telling.\n",
      "----------------------------------\n",
      "Noun Phrases\n",
      "----------------------------------\n",
      "(NP This/DT show/NN)\n",
      "(NP thing/NN)\n",
      "(NP an/DT absolute/JJ masterpiece/NN)\n",
      "(NP story/NN)\n",
      "(NP telling/NN)\n",
      "----------------------------------\n",
      "Review Text\n",
      "----------------------------------\n",
      "One of the most successful series I've seen in recent years!\n",
      "----------------------------------\n",
      "Noun Phrases\n",
      "----------------------------------\n",
      "(NP successful/JJ series/NN)\n"
     ]
    }
   ],
   "source": [
    "dark = allReviews[allReviews['title'] == \"Dark\"]\n",
    "for index, row in dark.head(3).iterrows():\n",
    "    print('----------------------------------')\n",
    "    print('Review Text')\n",
    "    print('----------------------------------')\n",
    "    print(row['reviewText'])\n",
    "    print('----------------------------------')\n",
    "    print('Noun Phrases')\n",
    "    print('----------------------------------')\n",
    "    for np in row['NP']:\n",
    "        print(np)"
   ]
  },
  {
   "cell_type": "markdown",
   "metadata": {},
   "source": [
    "## Q3: Output all the chunks in a single list for each review\n",
    "<a id='q3'></a>\n",
    "\n",
    "Below we output the results for everything after a brief review of what we have done for this task."
   ]
  },
  {
   "cell_type": "markdown",
   "metadata": {},
   "source": [
    "For this project we selected movies & TV shows from the \"crime\" drama. However, this code can easily be used to pull any of the genre's on IMDB's site using the first getMovies() function. We then scraped the links to the user review pages for the top 50 movie & TV shows for that genre. Using that the main user review page we were able to extract all the permalink the first 50 reviews for that corresponding movie or TV show. If less than 50 reviews were available then all the review links were stored. Once we had all the review links we were able to parse those links & extract the actual review text from the JSON in the HTML code.\n",
    "\n",
    "Once we had the the review text from the 1219 reviews from 50 different Movies & Television shoes we were able to chunk the noun phrases of those text. The chunker we implemented was simple rules based regular expressions chunker. After tokeninizing and tagging our text with parts of speech we defined our NP chunck as a sequence that contains an optional determinant, then any adjectives, and finally a noun. The first two parts of the chunk are optional."
   ]
  },
  {
   "cell_type": "code",
   "execution_count": 49,
   "metadata": {},
   "outputs": [],
   "source": [
    "finalJSON = allReviews[['title','reviewText','NP']].to_json(orient='records')"
   ]
  },
  {
   "cell_type": "code",
   "execution_count": 50,
   "metadata": {},
   "outputs": [],
   "source": [
    "with open('/home/newall/MSDS/MSDS7337/HW5/msds7337_nwall_reviews.json', 'w', encoding='utf-8') as outfile:\n",
    "    json.dump(finalJSON, outfile, ensure_ascii=False, indent=2)"
   ]
  },
  {
   "cell_type": "markdown",
   "metadata": {},
   "source": [
    "The final JSON file for all of these reviews is almost 2MBs and will be submitted with the final file."
   ]
  },
  {
   "cell_type": "code",
   "execution_count": null,
   "metadata": {},
   "outputs": [],
   "source": []
  }
 ],
 "metadata": {
  "kernelspec": {
   "display_name": "Python 3",
   "language": "python",
   "name": "python3"
  },
  "language_info": {
   "codemirror_mode": {
    "name": "ipython",
    "version": 3
   },
   "file_extension": ".py",
   "mimetype": "text/x-python",
   "name": "python",
   "nbconvert_exporter": "python",
   "pygments_lexer": "ipython3",
   "version": "3.7.3"
  }
 },
 "nbformat": 4,
 "nbformat_minor": 2
}
