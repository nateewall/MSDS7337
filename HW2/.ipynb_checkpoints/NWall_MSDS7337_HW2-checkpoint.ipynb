{
 "cells": [
  {
   "cell_type": "markdown",
   "metadata": {},
   "source": [
    "# MSDS 7337 Homework 2\n",
    "\n",
    "Author: Nathan Wall\n",
    "\n",
    "Date: 5/28/2019\n",
    "\n",
    "The notebook below works through the questions as part of the homework 2."
   ]
  },
  {
   "cell_type": "code",
   "execution_count": 1,
   "metadata": {},
   "outputs": [],
   "source": [
    "import re\n",
    "import string\n",
    "import pandas as pd\n",
    "import numpy as np\n",
    "import seaborn as sns\n",
    "import nltk\n",
    "from urllib import request\n",
    "from bs4 import BeautifulSoup, SoupStrainer"
   ]
  },
  {
   "cell_type": "markdown",
   "metadata": {},
   "source": [
    "## Reading in the Data"
   ]
  },
  {
   "cell_type": "markdown",
   "metadata": {},
   "source": [
    "First we grab all the book links from the main url"
   ]
  },
  {
   "cell_type": "code",
   "execution_count": 3,
   "metadata": {
    "scrolled": true
   },
   "outputs": [],
   "source": [
    "## create a list of links to scrape\n",
    "base_url = \"http://www.gutenberg.org/wiki/Children's_Instructional_Books_(Bookshelf)\"\n",
    "response = request.urlopen(base_url)\n",
    "linksToBooks = SoupStrainer('a', href=re.compile('gutenberg.org/ebooks/'))\n",
    "linksToText = SoupStrainer('a', href=re.compile('.utf-8'))\n",
    "book_links = []\n",
    "text_links = []\n",
    "for l1 in BeautifulSoup(response, parse_only=linksToBooks):\n",
    "    if l1.has_attr('href'):\n",
    "        book_link = ('https:'+l1['href'])\n",
    "        book_links.append(book_link)"
   ]
  },
  {
   "cell_type": "code",
   "execution_count": 4,
   "metadata": {
    "scrolled": true
   },
   "outputs": [
    {
     "name": "stdout",
     "output_type": "stream",
     "text": [
      "104\n"
     ]
    }
   ],
   "source": [
    "print(len(book_links))"
   ]
  },
  {
   "cell_type": "markdown",
   "metadata": {},
   "source": [
    "Then go into each of the book URLs and scape the link for the actual book text."
   ]
  },
  {
   "cell_type": "code",
   "execution_count": 34,
   "metadata": {
    "scrolled": true
   },
   "outputs": [],
   "source": [
    "text_links = []\n",
    "for b in book_links:\n",
    "    r = request.urlopen(b)\n",
    "    soup = BeautifulSoup(r, 'html.parser')\n",
    "    href_tags = soup.find_all(href=True, text=u'Plain Text UTF-8')\n",
    "    text_links.append('https:'+href_tags[0].attrs['href'])"
   ]
  },
  {
   "cell_type": "code",
   "execution_count": 35,
   "metadata": {},
   "outputs": [
    {
     "name": "stdout",
     "output_type": "stream",
     "text": [
      "104\n"
     ]
    }
   ],
   "source": [
    "print(len(text_links))"
   ]
  },
  {
   "cell_type": "markdown",
   "metadata": {},
   "source": [
    "Now that we have all the links lets begin by reading that data in and processing it through an NLP pipeline. This will allow us to answer the questions defined below."
   ]
  },
  {
   "cell_type": "markdown",
   "metadata": {},
   "source": [
    "The three functions below will allow us to strip on the generic gutenberg text that is not relevant to the actual material."
   ]
  },
  {
   "cell_type": "code",
   "execution_count": 8,
   "metadata": {},
   "outputs": [],
   "source": [
    "def remove_header(text, header):\n",
    "    start_tag_location = -1\n",
    "    position = -1\n",
    "    content_tag_len = -1\n",
    "    \n",
    "    start_tag_location = text.find(header)\n",
    "    \n",
    "    if start_tag_location > -1:\n",
    "        position = start_tag_location\n",
    "        header_len = len(header)\n",
    "        updated_position = start_tag_location + header_len + 1\n",
    "        \n",
    "    if position > -1:\n",
    "        text = text[(updated_position):]\n",
    "        \n",
    "    return text\n",
    "\n",
    "def remove_footer(text, footer):\n",
    "    end_tag_location = -1\n",
    "    position = -1\n",
    "    \n",
    "    end_tag_location = text.find(footer)\n",
    "    \n",
    "    if end_tag_location > -1:\n",
    "        position = end_tag_location\n",
    "        \n",
    "    if position > -1:\n",
    "        text = text[:(position - 1)]\n",
    "        \n",
    "    return text\n",
    "\n",
    "def remove_header_footer(text, headers, footers):\n",
    "    for header in headers:\n",
    "        h = header.lower()\n",
    "        text = remove_header(text, h)\n",
    "        \n",
    "    for footer in footers:\n",
    "        f = footer.lower()\n",
    "        text = remove_footer(text, f)\n",
    "        \n",
    "    return text\n",
    "\n",
    "def remove_characters(tokens):\n",
    "    pattern = re.compile('[{}]'.format(re.escape(string.punctuation)))\n",
    "    filtered_tokens = filter(None, [pattern.sub('', token) for token in tokens])\n",
    "    return filtered_tokens"
   ]
  },
  {
   "cell_type": "markdown",
   "metadata": {},
   "source": [
    "Below we will go ahead and add in the stop words that we wish to filter out & set up our function for calculating lexical diversity."
   ]
  },
  {
   "cell_type": "code",
   "execution_count": 9,
   "metadata": {},
   "outputs": [],
   "source": [
    "from nltk.corpus import stopwords\n",
    "stop_words = stopwords.words('english')\n",
    "\n",
    "def lexical_diversity(text):\n",
    "    return len(set(text)) / len(text)"
   ]
  },
  {
   "cell_type": "markdown",
   "metadata": {},
   "source": [
    "Then we will define function that will apply some of the gutenberg filtering, then tokenize and clean up some of those tokens. The final output will be the cleaned up tokens with some corresponding scores of those tokens in a dictionary."
   ]
  },
  {
   "cell_type": "code",
   "execution_count": 10,
   "metadata": {},
   "outputs": [],
   "source": [
    "def nlp_prep(url, headers, footers):\n",
    "    response = request.urlopen(url)\n",
    "    html = response.read().decode('utf8')\n",
    "    raw = BeautifulSoup(html, 'html.parser').get_text(strip=True).lower()\n",
    "    \n",
    "    trimmed_text = remove_header_footer(raw, headers, footers)\n",
    "    tokens = nltk.word_tokenize(trimmed_text)\n",
    "\n",
    "    cleaned_tokens = remove_characters(tokens)\n",
    "    \n",
    "    text = nltk.Text(cleaned_tokens, name = url[1])\n",
    "\n",
    "    words = [word for word in text if word not in stop_words]\n",
    "    \n",
    "    #calculate the vocab size\n",
    "    vocab = sorted(set(words))\n",
    "    vocab_size = len(vocab)\n",
    "    \n",
    "    #calculate the long word vocab size\n",
    "    long_vocab = sorted(set([w for w in words if len(w) > 15]))\n",
    "    long_vocab_size = len(long_vocab)\n",
    "    \n",
    "    #calculate the lexical diversity\n",
    "    lexical_div = lexical_diversity(words)\n",
    "\n",
    "    return {\n",
    "            \"text\": words,\n",
    "            \"vocab_size\": vocab_size,\n",
    "            \"long_vocab_size\": long_vocab_size,\n",
    "            \"lexical_div\": lexical_div\n",
    "           }"
   ]
  },
  {
   "cell_type": "markdown",
   "metadata": {},
   "source": [
    "Now we can list the criteria for defining headers and generate a list of dictionaries from the result of of the nlp_prep() function from above."
   ]
  },
  {
   "cell_type": "code",
   "execution_count": 11,
   "metadata": {},
   "outputs": [],
   "source": [
    "headers = [\"start of project gutenberg ebook\",\"start of project gutenberg's\",\"start of this project gutenberg ebook\", \"start of the project gutenberg ebook\"]\n",
    "footers = [\"end of project gutenberg's\", \"end of project gutenberg ebook\", \"end of this project gutenberg ebook\", \"end of the project gutenberg ebook\"]\n",
    "texts = []\n",
    "for url in text_links:\n",
    "    texts.append(nlp_prep(url, headers, footers))\n",
    "    \n",
    "df = pd.DataFrame(texts)"
   ]
  },
  {
   "cell_type": "code",
   "execution_count": 12,
   "metadata": {},
   "outputs": [
    {
     "name": "stdout",
     "output_type": "stream",
     "text": [
      "<class 'pandas.core.frame.DataFrame'>\n",
      "RangeIndex: 104 entries, 0 to 103\n",
      "Data columns (total 4 columns):\n",
      "lexical_div        104 non-null float64\n",
      "long_vocab_size    104 non-null int64\n",
      "text               104 non-null object\n",
      "vocab_size         104 non-null int64\n",
      "dtypes: float64(1), int64(2), object(1)\n",
      "memory usage: 3.3+ KB\n"
     ]
    }
   ],
   "source": [
    "df.info()"
   ]
  },
  {
   "cell_type": "markdown",
   "metadata": {},
   "source": [
    "The final output is a list of size 104 for each of the 104 links from the Guttenberg bookshelf. We can now start analyzing and interpretting this data."
   ]
  },
  {
   "cell_type": "markdown",
   "metadata": {},
   "source": [
    "## Problem 1\n",
    "\n",
    "##### Normalized Scoring of the Vocabulary Size of Text"
   ]
  },
  {
   "cell_type": "markdown",
   "metadata": {},
   "source": [
    "Before selecting a normalization scheme lets first look a the distribtution of the various vocabulary sizes, to determine is a simple max min scaler is appropriate."
   ]
  },
  {
   "cell_type": "code",
   "execution_count": 13,
   "metadata": {},
   "outputs": [
    {
     "data": {
      "image/png": "[encoded data removed]",
      "text/plain": [
       "<Figure size 720x432 with 1 Axes>"
      ]
     },
     "metadata": {
      "needs_background": "light"
     },
     "output_type": "display_data"
    }
   ],
   "source": [
    "import matplotlib.pyplot as plt\n",
    "\n",
    "fig, ax = plt.subplots(figsize=(10, 6))\n",
    "\n",
    "n, bins, patches = plt.hist(x=df.vocab_size, bins='auto', alpha=0.7, rwidth=0.85)\n",
    "\n",
    "plt.grid(axis='y', alpha=0.75)\n",
    "plt.xlabel('Vocabulary Size')\n",
    "plt.ylabel('Frequency')\n",
    "plt.title('Histogram of Vocab Size')\n",
    "plt.show()"
   ]
  },
  {
   "cell_type": "markdown",
   "metadata": {},
   "source": [
    "Based on the information above we will choose to simply scale our values based on the minimum and maximum values for the vocabulary size. Meaning that the lowest vocabulary size from the 100 books would now be represented by a 0 and the highest vocabulary size by a 1. \n",
    "\n",
    "Based the histogram we see that there is in fact some skew it seems minimal enough that no transformations would be needed. Additionally we do not see any extreme outliers making this normalization technique reasonable. Also maintaining the original distribution could prove usesful when trying to measure the relative difficulty of each text, by not forcing \"harder\" texts closer to the mean."
   ]
  },
  {
   "cell_type": "code",
   "execution_count": 14,
   "metadata": {},
   "outputs": [],
   "source": [
    "def minMaxScaler(var):\n",
    "    var -= var.min()\n",
    "    var /= var.max()\n",
    "    return var"
   ]
  },
  {
   "cell_type": "code",
   "execution_count": 15,
   "metadata": {},
   "outputs": [],
   "source": [
    "df[\"vocab_size\"] = minMaxScaler(df[\"vocab_size\"])"
   ]
  },
  {
   "cell_type": "code",
   "execution_count": 16,
   "metadata": {},
   "outputs": [
    {
     "data": {
      "text/plain": [
       "count    104.000000\n",
       "mean       0.359676\n",
       "std        0.236273\n",
       "min        0.000000\n",
       "25%        0.208132\n",
       "50%        0.299140\n",
       "75%        0.506136\n",
       "max        1.000000\n",
       "Name: vocab_size, dtype: float64"
      ]
     },
     "execution_count": 16,
     "metadata": {},
     "output_type": "execute_result"
    }
   ],
   "source": [
    "df[\"vocab_size\"].describe()"
   ]
  },
  {
   "cell_type": "markdown",
   "metadata": {},
   "source": [
    "## Problem 2\n",
    "\n",
    "##### Create a method for normalized scoring the long-word vocabulary size of text"
   ]
  },
  {
   "cell_type": "markdown",
   "metadata": {},
   "source": [
    "For simplicity the long-word scoring was done during the NLP pipeline above. The count is based on words in the books vocabulary greater than 15 alphanumeric characters long. The code used was:\n",
    "```python\n",
    "long_vocab = sorted(set([w for w in words if len(w) > 15]))\n",
    "long_vocab_size = len(long_vocab)\n",
    "```"
   ]
  },
  {
   "cell_type": "markdown",
   "metadata": {},
   "source": [
    "We will follow a similar path as above for determining an appropriate scale for this the long word vocabulary size as well."
   ]
  },
  {
   "cell_type": "code",
   "execution_count": 18,
   "metadata": {},
   "outputs": [
    {
     "data": {
      "image/png": "[encoded data removed]",
      "text/plain": [
       "<Figure size 720x432 with 1 Axes>"
      ]
     },
     "metadata": {
      "needs_background": "light"
     },
     "output_type": "display_data"
    }
   ],
   "source": [
    "import matplotlib.pyplot as plt\n",
    "\n",
    "fig, ax = plt.subplots(figsize=(10, 6))\n",
    "\n",
    "n, bins, patches = plt.hist(x=df.long_vocab_size, bins='auto', alpha=0.7, rwidth=0.85)\n",
    "\n",
    "plt.grid(axis='y', alpha=0.75)\n",
    "plt.xlabel('Vocabulary Size (Long Words)')\n",
    "plt.ylabel('Frequency')\n",
    "plt.title('Histogram of Long Word Vocab Size (>15 Characters)')\n",
    "plt.show()"
   ]
  },
  {
   "cell_type": "markdown",
   "metadata": {},
   "source": [
    "Unlike the normal vocabulary size there is a lot more skew in this data that we did not have before. Additionally the presence of ouliers in the far right tail could impact the score a simple max-min scale. Lets look at the log-transform of this data to see if this would help handle some of our concerns."
   ]
  },
  {
   "cell_type": "code",
   "execution_count": 19,
   "metadata": {},
   "outputs": [],
   "source": [
    "df[\"log_long_vocab_size\"] = np.log(df[\"long_vocab_size\"]+1)"
   ]
  },
  {
   "cell_type": "code",
   "execution_count": 20,
   "metadata": {},
   "outputs": [
    {
     "data": {
      "image/png": "[encoded data removed]",
      "text/plain": [
       "<Figure size 720x432 with 1 Axes>"
      ]
     },
     "metadata": {
      "needs_background": "light"
     },
     "output_type": "display_data"
    }
   ],
   "source": [
    "import matplotlib.pyplot as plt\n",
    "\n",
    "fig, ax = plt.subplots(figsize=(10, 6))\n",
    "\n",
    "n, bins, patches = plt.hist(x=df.log_long_vocab_size, bins='auto', alpha=0.7, rwidth=0.85)\n",
    "\n",
    "plt.grid(axis='y', alpha=0.75)\n",
    "plt.xlabel('Vocabulary Size (Long Words)')\n",
    "plt.ylabel('Frequency')\n",
    "plt.title('Histogram of Log Transformed Long Word Vocab Size (>15 Characters)')\n",
    "plt.show()"
   ]
  },
  {
   "cell_type": "markdown",
   "metadata": {},
   "source": [
    "The log transform looks much more like the distribution of the vocabulary size. It appears to have handled the skew and those 2 outliers that we saw in the previous distribution. From here we can apply our min max scaler to convert the values to a 0 to 1 scale based on the log transformed values."
   ]
  },
  {
   "cell_type": "code",
   "execution_count": 21,
   "metadata": {},
   "outputs": [],
   "source": [
    "df[\"log_long_vocab_size\"] = minMaxScaler(df[\"log_long_vocab_size\"])"
   ]
  },
  {
   "cell_type": "code",
   "execution_count": 22,
   "metadata": {},
   "outputs": [
    {
     "data": {
      "text/plain": [
       "count    104.000000\n",
       "mean       0.376723\n",
       "std        0.259339\n",
       "min        0.000000\n",
       "25%        0.181043\n",
       "50%        0.362085\n",
       "75%        0.543128\n",
       "max        1.000000\n",
       "Name: log_long_vocab_size, dtype: float64"
      ]
     },
     "execution_count": 22,
     "metadata": {},
     "output_type": "execute_result"
    }
   ],
   "source": [
    "df[\"log_long_vocab_size\"].describe()"
   ]
  },
  {
   "cell_type": "markdown",
   "metadata": {},
   "source": [
    "## Problem 3\n",
    "\n",
    "##### Text Difficulty Score:\n",
    "- **Equal weighting of lexical diversity, normalized vocab score, and normalized long word vocab score**"
   ]
  },
  {
   "cell_type": "markdown",
   "metadata": {},
   "source": [
    "Before scoring each text we first need to convert our lexical diversity to the same scale as the other two scores above. While we know it is already between 0 and 1 it is likely that no values reach 0 or 1. This would reduce the overall impact of the lexical diversity score and thus would not be weighted equally."
   ]
  },
  {
   "cell_type": "code",
   "execution_count": 23,
   "metadata": {},
   "outputs": [],
   "source": [
    "df['lexical_div'] = round(minMaxScaler(df['lexical_div']),3)"
   ]
  },
  {
   "cell_type": "markdown",
   "metadata": {},
   "source": [
    "Before creating the singular score we take a quick look at all the individual relationships between our scores."
   ]
  },
  {
   "cell_type": "code",
   "execution_count": 24,
   "metadata": {},
   "outputs": [
    {
     "data": {
      "text/plain": [
       "array([[<matplotlib.axes._subplots.AxesSubplot object at 0x7f6b720ecf28>,\n",
       "        <matplotlib.axes._subplots.AxesSubplot object at 0x7f6b70b59f98>,\n",
       "        <matplotlib.axes._subplots.AxesSubplot object at 0x7f6b70960eb8>],\n",
       "       [<matplotlib.axes._subplots.AxesSubplot object at 0x7f6b706ed240>,\n",
       "        <matplotlib.axes._subplots.AxesSubplot object at 0x7f6b705a10b8>,\n",
       "        <matplotlib.axes._subplots.AxesSubplot object at 0x7f6b7053a5c0>],\n",
       "       [<matplotlib.axes._subplots.AxesSubplot object at 0x7f6b704bdac8>,\n",
       "        <matplotlib.axes._subplots.AxesSubplot object at 0x7f6b70c1ef98>,\n",
       "        <matplotlib.axes._subplots.AxesSubplot object at 0x7f6b70c1ed30>]],\n",
       "      dtype=object)"
      ]
     },
     "execution_count": 24,
     "metadata": {},
     "output_type": "execute_result"
    },
    {
     "data": {
      "image/png": "[encoded data removed]",
      "text/plain": [
       "<Figure size 864x720 with 9 Axes>"
      ]
     },
     "metadata": {
      "needs_background": "light"
     },
     "output_type": "display_data"
    }
   ],
   "source": [
    "scores = [\"lexical_div\", \"log_long_vocab_size\", \"vocab_size\"]\n",
    "pd.plotting.scatter_matrix(df[scores], figsize=(12,10))"
   ]
  },
  {
   "cell_type": "markdown",
   "metadata": {},
   "source": [
    "Unsuprisingly there is a positive linear relationship between vocab size and long vocab size. However, it is very interesting that lexical diversity has an almost negative relationship with the the other two scoring methods, with the highest lexical diversity scores falling near the the lowest values for the two vocab sizes. \n",
    "\n",
    "We will add these three values together and see take a look at our combined scores."
   ]
  },
  {
   "cell_type": "code",
   "execution_count": 25,
   "metadata": {},
   "outputs": [],
   "source": [
    "df['difficulty'] = df[\"lexical_div\"]/3 + df[\"log_long_vocab_size\"]/3 + df[\"vocab_size\"]/3"
   ]
  },
  {
   "cell_type": "code",
   "execution_count": 26,
   "metadata": {},
   "outputs": [
    {
     "data": {
      "text/html": [
       "<div>\n",
       "<style scoped>\n",
       "    .dataframe tbody tr th:only-of-type {\n",
       "        vertical-align: middle;\n",
       "    }\n",
       "\n",
       "    .dataframe tbody tr th {\n",
       "        vertical-align: top;\n",
       "    }\n",
       "\n",
       "    .dataframe thead th {\n",
       "        text-align: right;\n",
       "    }\n",
       "</style>\n",
       "<table border=\"1\" class=\"dataframe\">\n",
       "  <thead>\n",
       "    <tr style=\"text-align: right;\">\n",
       "      <th></th>\n",
       "      <th>lexical_div</th>\n",
       "      <th>long_vocab_size</th>\n",
       "      <th>text</th>\n",
       "      <th>vocab_size</th>\n",
       "      <th>log_long_vocab_size</th>\n",
       "      <th>difficulty</th>\n",
       "    </tr>\n",
       "  </thead>\n",
       "  <tbody>\n",
       "    <tr>\n",
       "      <th>26</th>\n",
       "      <td>0.214</td>\n",
       "      <td>21</td>\n",
       "      <td>[ontario, readers, produced, jacqueline, jerem...</td>\n",
       "      <td>0.961401</td>\n",
       "      <td>0.807347</td>\n",
       "      <td>0.660916</td>\n",
       "    </tr>\n",
       "    <tr>\n",
       "      <th>38</th>\n",
       "      <td>0.351</td>\n",
       "      <td>17</td>\n",
       "      <td>[first, italian, readings, etext, prepared, ch...</td>\n",
       "      <td>0.872806</td>\n",
       "      <td>0.754934</td>\n",
       "      <td>0.659580</td>\n",
       "    </tr>\n",
       "    <tr>\n",
       "      <th>71</th>\n",
       "      <td>0.077</td>\n",
       "      <td>28</td>\n",
       "      <td>[modern, history, produced, david, edwards, ch...</td>\n",
       "      <td>0.907000</td>\n",
       "      <td>0.879501</td>\n",
       "      <td>0.621167</td>\n",
       "    </tr>\n",
       "    <tr>\n",
       "      <th>21</th>\n",
       "      <td>0.190</td>\n",
       "      <td>12</td>\n",
       "      <td>[mcguffey, sixth, eclectic, reader, produced, ...</td>\n",
       "      <td>1.000000</td>\n",
       "      <td>0.669937</td>\n",
       "      <td>0.619979</td>\n",
       "    </tr>\n",
       "    <tr>\n",
       "      <th>82</th>\n",
       "      <td>0.243</td>\n",
       "      <td>17</td>\n",
       "      <td>[modern, prose, poetry, produced, online, dist...</td>\n",
       "      <td>0.766450</td>\n",
       "      <td>0.754934</td>\n",
       "      <td>0.588128</td>\n",
       "    </tr>\n",
       "  </tbody>\n",
       "</table>\n",
       "</div>"
      ],
      "text/plain": [
       "    lexical_div  long_vocab_size  \\\n",
       "26        0.214               21   \n",
       "38        0.351               17   \n",
       "71        0.077               28   \n",
       "21        0.190               12   \n",
       "82        0.243               17   \n",
       "\n",
       "                                                 text  vocab_size  \\\n",
       "26  [ontario, readers, produced, jacqueline, jerem...    0.961401   \n",
       "38  [first, italian, readings, etext, prepared, ch...    0.872806   \n",
       "71  [modern, history, produced, david, edwards, ch...    0.907000   \n",
       "21  [mcguffey, sixth, eclectic, reader, produced, ...    1.000000   \n",
       "82  [modern, prose, poetry, produced, online, dist...    0.766450   \n",
       "\n",
       "    log_long_vocab_size  difficulty  \n",
       "26             0.807347    0.660916  \n",
       "38             0.754934    0.659580  \n",
       "71             0.879501    0.621167  \n",
       "21             0.669937    0.619979  \n",
       "82             0.754934    0.588128  "
      ]
     },
     "execution_count": 26,
     "metadata": {},
     "output_type": "execute_result"
    }
   ],
   "source": [
    "df = df.sort_values(by='difficulty', ascending=False)\n",
    "df.head()"
   ]
  },
  {
   "cell_type": "code",
   "execution_count": 32,
   "metadata": {},
   "outputs": [
    {
     "data": {
      "text/plain": [
       "Text(0.5, 1.0, 'Correlations between all scores and \"difficulty\" score')"
      ]
     },
     "execution_count": 32,
     "metadata": {},
     "output_type": "execute_result"
    },
    {
     "data": {
      "image/png": "[encoded data removed]",
      "text/plain": [
       "<Figure size 792x648 with 2 Axes>"
      ]
     },
     "metadata": {
      "needs_background": "light"
     },
     "output_type": "display_data"
    }
   ],
   "source": [
    "# Compute the correlation matrix\n",
    "corr = df[['difficulty', 'lexical_div', 'log_long_vocab_size', 'vocab_size']].corr()\n",
    "\n",
    "# Generate a mask for the upper triangle\n",
    "mask = np.zeros_like(corr, dtype=np.bool)\n",
    "mask[np.triu_indices_from(mask)] = True\n",
    "\n",
    "# Set up the matplotlib figure\n",
    "f, ax = plt.subplots(figsize=(11, 9))\n",
    "\n",
    "# Draw the heatmap with the mask and correct aspect ratio\n",
    "sns.heatmap(corr, mask=mask, vmax=.3, center=0, annot=True, fmt='g',\n",
    "            square=True, linewidths=.5)\n",
    "plt.title('Correlations between all scores and \"difficulty\" score')"
   ]
  },
  {
   "cell_type": "markdown",
   "metadata": {},
   "source": [
    "Based on the above we see that lexical diversity shares almost no correlation with our difficulty score, while both vocab size and the log transformed long vocab size have a very strong positive relationship with our score. As we have shown through prior exercises both lexical diversity and vocab size togethers are better indicator of text difficulty than vocab size alone. However, because of the strong relationship between vocab size and long vocab size we are essentially double weighting text difficulty based on it's vocabulary size.\n",
    "\n",
    "Based on this it is difficult to feel comfortable on the reliability of the difficult score as defined. A better weighting schema could be determined through a supervised learning exercise. Where the difficulty score is labeled and the weights can be learned. However, this corpus does not contain those labels."
   ]
  },
  {
   "cell_type": "code",
   "execution_count": null,
   "metadata": {},
   "outputs": [],
   "source": []
  }
 ],
 "metadata": {
  "kernelspec": {
   "display_name": "Python 3",
   "language": "python",
   "name": "python3"
  },
  "language_info": {
   "codemirror_mode": {
    "name": "ipython",
    "version": 3
   },
   "file_extension": ".py",
   "mimetype": "text/x-python",
   "name": "python",
   "nbconvert_exporter": "python",
   "pygments_lexer": "ipython3",
   "version": "3.7.3"
  }
 },
 "nbformat": 4,
 "nbformat_minor": 2
}
