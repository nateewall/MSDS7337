{
 "cells": [
  {
   "cell_type": "markdown",
   "metadata": {},
   "source": [
    "# MSDS 7337 Homework 4\n",
    "\n",
    "Author: Nathan Wall\n",
    "\n",
    "Date: 6/25/2019\n",
    "\n",
    "The notebook below works through the questions as part of the homework 5. This notebook utilizes articles from MIT Technology Review for the purpose of academic work.\n",
    "\n",
    "Notebook Sections:\n",
    "- [Data Preperation](#pre)\n",
    "- [Q1: POS Tagger 1](#q1)\n",
    "- [Q2: POS Tagger 2](#q2)\n",
    "- [Q3: POS Tagger Comparison](#q3)"
   ]
  },
  {
   "cell_type": "code",
   "execution_count": 51,
   "metadata": {},
   "outputs": [],
   "source": [
    "import requests\n",
    "from bs4 import BeautifulSoup\n",
    "import nltk"
   ]
  },
  {
   "cell_type": "markdown",
   "metadata": {},
   "source": [
    "## Data Preperation\n",
    "<a id='pre'></a>\n",
    "\n",
    "In this section we scrape a recent news article and clean up some of the text for use in the rest of this assignment."
   ]
  },
  {
   "cell_type": "code",
   "execution_count": 22,
   "metadata": {},
   "outputs": [
    {
     "name": "stdout",
     "output_type": "stream",
     "text": [
      "https://www.technologyreview.com/s/613736/ai-mit-ibm-tech-business-future-of-work/amp/\n"
     ]
    }
   ],
   "source": [
    "#read from the artificial intelligence setion of MIT technology review\n",
    "page = requests.get('https://www.technologyreview.com/artificial-intelligence') \n",
    "soup = BeautifulSoup(page.content, 'html.parser')\n",
    "#find the article links\n",
    "webLinks = soup.find_all('h3', {\"class\": \"grid-tz__title\"})\n",
    "\n",
    "#select the first list article in that list \n",
    "articleLink = 'https://www.technologyreview.com'+webLinks[0].find('a').get('href')+'amp/' \n",
    "#technology article text require 'amp'\n",
    "\n",
    "print(articleLink)"
   ]
  },
  {
   "cell_type": "code",
   "execution_count": 54,
   "metadata": {
    "scrolled": true
   },
   "outputs": [
    {
     "data": {
      "text/plain": [
       "'IBM may not be the sexiest tech giant, compared with Google or Apple or the latest cutting-edge star'"
      ]
     },
     "execution_count": 54,
     "metadata": {},
     "output_type": "execute_result"
    }
   ],
   "source": [
    "#now lets parse that article\n",
    "page = requests.get(articleLink)\n",
    "# parse with BFS\n",
    "soup = BeautifulSoup(page.text, 'html.parser')\n",
    "\n",
    "pTags = soup.find_all('p')\n",
    "\n",
    "pList = []\n",
    "for p in pTags:\n",
    "    pList.append(p.get_text())\n",
    "\n",
    "article = [' '.join(pList)][0]\n",
    "article[0:100]"
   ]
  },
  {
   "cell_type": "markdown",
   "metadata": {},
   "source": [
    "From above we are able to pull in one of the latest articles on the MIT Research Review website, to begin testing out diffee POS Taggers."
   ]
  },
  {
   "cell_type": "markdown",
   "metadata": {},
   "source": [
    "## Q1: Run one of the part-of-speech (POS) taggers available in Python. \n",
    "<a id='q1'></a>"
   ]
  },
  {
   "cell_type": "markdown",
   "metadata": {},
   "source": [
    "### a) Find the longest sentence you can, longer than 10 words, that the POS tagger tags correctly. Show the input and output."
   ]
  },
  {
   "cell_type": "code",
   "execution_count": 58,
   "metadata": {},
   "outputs": [
    {
     "name": "stdout",
     "output_type": "stream",
     "text": [
      "Researchers help us see what’s across the horizon and say, “Hey, look out for these significant trends that could either blindside the company or really enable the company and our clients to build the next billion-dollar business.” That’s how we think about that.\n"
     ]
    }
   ],
   "source": [
    "#first we find the longest sentence\n",
    "sent = nltk.sent_tokenize(article)\n",
    "\n",
    "longest = max(sent, key=len)\n",
    "print(longest)"
   ]
  },
  {
   "cell_type": "code",
   "execution_count": null,
   "metadata": {},
   "outputs": [],
   "source": []
  },
  {
   "cell_type": "markdown",
   "metadata": {},
   "source": [
    "## Q2: POS Tagger 2\n",
    "<a id='q2'></a>"
   ]
  },
  {
   "cell_type": "markdown",
   "metadata": {},
   "source": [
    "## Q3: POS Tagger Comparison\n",
    "<a id='q3'></a>"
   ]
  },
  {
   "cell_type": "code",
   "execution_count": null,
   "metadata": {},
   "outputs": [],
   "source": []
  }
 ],
 "metadata": {
  "kernelspec": {
   "display_name": "Python 3",
   "language": "python",
   "name": "python3"
  },
  "language_info": {
   "codemirror_mode": {
    "name": "ipython",
    "version": 3
   },
   "file_extension": ".py",
   "mimetype": "text/x-python",
   "name": "python",
   "nbconvert_exporter": "python",
   "pygments_lexer": "ipython3",
   "version": "3.7.3"
  }
 },
 "nbformat": 4,
 "nbformat_minor": 2
}
