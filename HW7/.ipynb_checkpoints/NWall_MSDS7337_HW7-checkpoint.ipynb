{
 "cells": [
  {
   "cell_type": "markdown",
   "metadata": {},
   "source": [
    "# MSDS 7337 Homework 7\n",
    "\n",
    "Author: Nathan Wall\n",
    "\n",
    "Date: 7/30/2019\n",
    "\n",
    "The notebook below works through the questions as part of the homework 7\n",
    "\n",
    "Notebook Sections:\n",
    "- [Data Preperation](#prep)\n",
    "- [Q1: Cluster the Reviews](#q1)\n",
    "- [Q2: Cluster Interpretations](#q2)\n",
    "- [Q3: Clustering Evaluations](#q3)"
   ]
  },
  {
   "cell_type": "code",
   "execution_count": 49,
   "metadata": {},
   "outputs": [],
   "source": [
    "import re\n",
    "import json\n",
    "import pandas as pd\n",
    "import numpy as np\n",
    "import matplotlib.pyplot as plt\n",
    "import seaborn as sns\n",
    "from sklearn.cluster import KMeans\n",
    "from sklearn.decomposition import PCA\n",
    "from sklearn.metrics import silhouette_score"
   ]
  },
  {
   "cell_type": "markdown",
   "metadata": {},
   "source": [
    "## Preparing the reviews\n",
    "<a id='prep'></a>\n"
   ]
  },
  {
   "cell_type": "code",
   "execution_count": 2,
   "metadata": {},
   "outputs": [
    {
     "data": {
      "text/plain": [
       "1219"
      ]
     },
     "execution_count": 2,
     "metadata": {},
     "output_type": "execute_result"
    }
   ],
   "source": [
    "with open('msds7337_nwall_reviews.json', 'r') as json_file:\n",
    "    data = json.load(json_file)\n",
    "\n",
    "reviews = json.loads(data)\n",
    "len(reviews)"
   ]
  },
  {
   "cell_type": "code",
   "execution_count": 3,
   "metadata": {},
   "outputs": [
    {
     "data": {
      "text/plain": [
       "1219"
      ]
     },
     "execution_count": 3,
     "metadata": {},
     "output_type": "execute_result"
    }
   ],
   "source": [
    "text = []\n",
    "for r in reviews:\n",
    "    text.append(r['reviewText'])\n",
    "\n",
    "len(text)"
   ]
  },
  {
   "cell_type": "code",
   "execution_count": 27,
   "metadata": {},
   "outputs": [
    {
     "data": {
      "text/plain": [
       "\"A nice easy breezy murder mystery. Full of fun. Don't count on anything serious or deep here just sit back with your popcorn and a soda and enjoy the movie. Nothing offencive here. Just an adult murder mystery romp. We don't get many like these anymore. Ignore the people who like to criticize everything because they think they are actual critics. Chemistry between Aniston and Sadler is awesome. I hope they make more movies together.\""
      ]
     },
     "execution_count": 27,
     "metadata": {},
     "output_type": "execute_result"
    }
   ],
   "source": [
    "text[1]"
   ]
  },
  {
   "cell_type": "code",
   "execution_count": 16,
   "metadata": {},
   "outputs": [
    {
     "data": {
      "text/plain": [
       "(1219, 11378)"
      ]
     },
     "execution_count": 16,
     "metadata": {},
     "output_type": "execute_result"
    }
   ],
   "source": [
    "from sklearn.feature_extraction.text import TfidfVectorizer\n",
    "vectorizer = TfidfVectorizer(max_df=0.8, min_df=1, stop_words='english', use_idf=True)\n",
    "tf_idf = vectorizer.fit_transform(text)\n",
    "tf_idf.shape"
   ]
  },
  {
   "cell_type": "code",
   "execution_count": 26,
   "metadata": {},
   "outputs": [
    {
     "name": "stdout",
     "output_type": "stream",
     "text": [
      "nice 0.13785749978974188\n",
      "easy 0.14683477115187507\n",
      "breezy 0.23134091124737477\n",
      "murder 0.28404883516915064\n",
      "mystery 0.25252532463070654\n",
      "fun 0.11782810949127226\n",
      "don 0.17652914783004411\n",
      "count 0.1922477796359169\n",
      "deep 0.14683477115187507\n",
      "just 0.13537395099279823\n",
      "sit 0.15948752449288753\n",
      "popcorn 0.20274757389917886\n",
      "soda 0.23134091124737477\n",
      "enjoy 0.12039439288142967\n",
      "movie 0.09363720448505282\n",
      "offencive 0.23134091124737477\n",
      "adult 0.18808086184108347\n",
      "romp 0.20274757389917886\n",
      "like 0.12866669012040097\n",
      "anymore 0.16108815889756356\n",
      "ignore 0.18808086184108347\n",
      "people 0.08907096321377915\n",
      "criticize 0.2186881579063623\n",
      "think 0.09344865086381315\n",
      "actual 0.1627753551590585\n",
      "critics 0.17814334458055253\n",
      "chemistry 0.15379808379692533\n",
      "aniston 0.18808086184108347\n",
      "sadler 0.23134091124737477\n",
      "awesome 0.14114533045591285\n",
      "hope 0.1077416395404172\n",
      "make 0.0930749274823218\n",
      "movies 0.1136099089743408\n"
     ]
    }
   ],
   "source": [
    "feature_names = vectorizer.get_feature_names()\n",
    "doc = 1\n",
    "feature_index = tf_idf[doc,:].nonzero()[1]\n",
    "tfidf_scores = zip(feature_index, [tf_idf[doc, x] for x in feature_index])\n",
    "for w, s in [(feature_names[i], s) for (i, s) in tfidf_scores]:\n",
    "    print(w, s)"
   ]
  },
  {
   "cell_type": "markdown",
   "metadata": {},
   "source": [
    "\n",
    "## Q1: Cluster the Reviews\n",
    "<a id='q1'></a>\n",
    "\n",
    "Select any one of the clustering methods covered in this course. Run it over the collection of reviews, and show at least two different ways of clustering the reviews, e.g., changing k in k-Means clustering or changing where you “cut” in Agnes or Diana.\n",
    "\n",
    "Below we create two different clusters using k means clustering with k=3 & k=5."
   ]
  },
  {
   "cell_type": "code",
   "execution_count": 45,
   "metadata": {},
   "outputs": [
    {
     "name": "stdout",
     "output_type": "stream",
     "text": [
      "[[  0 130]\n",
      " [  1 149]\n",
      " [  2 940]]\n"
     ]
    }
   ],
   "source": [
    "n_clusters = 3\n",
    "kmeans_model = KMeans(n_clusters=n_clusters, init='k-means++')\n",
    "\n",
    "km3 = kmeans_model.fit(tf_idf)\n",
    "\n",
    "unique, counts = np.unique(km3.labels_, return_counts=True)\n",
    "print(np.asarray((unique, counts)).T)"
   ]
  },
  {
   "cell_type": "markdown",
   "metadata": {},
   "source": [
    "Cluster 2 represents a large portion of the reviews in our clusters when using 3 clusters, we will explore this further but some concern that this clustering is poorly clustered which we explore next."
   ]
  },
  {
   "cell_type": "code",
   "execution_count": 29,
   "metadata": {},
   "outputs": [
    {
     "name": "stdout",
     "output_type": "stream",
     "text": [
      "[[  0 142]\n",
      " [  1 141]\n",
      " [  2  98]\n",
      " [  3 435]\n",
      " [  4 403]]\n"
     ]
    }
   ],
   "source": [
    "n_clusters = 5\n",
    "kmeans_model = KMeans(n_clusters=n_clusters, init='k-means++')\n",
    "\n",
    "km5 = kmeans_model.fit(tf_idf)\n",
    "\n",
    "unique, counts = np.unique(km5.labels_, return_counts=True)\n",
    "print(np.asarray((unique, counts)).T)"
   ]
  },
  {
   "cell_type": "markdown",
   "metadata": {},
   "source": [
    "We have two larger clusters 3 & 4 with several 100 -150 observations, so likely a little better than k= 3, but lets review the semantic intepretations of the two clusterings."
   ]
  },
  {
   "cell_type": "markdown",
   "metadata": {},
   "source": [
    "## Q2: Interpreting the Clusters\n",
    "<a id='q2'></a>\n",
    "\n",
    "Write a short phrase to characterize (give a natural interpretation of) what each cluster is generally centered on semantically. Is this hard to do in some cases? If so, make note of that fact. "
   ]
  },
  {
   "cell_type": "markdown",
   "metadata": {},
   "source": [
    "First lets define some functions to help determine the semantic meaning behind each cluster"
   ]
  },
  {
   "cell_type": "code",
   "execution_count": 35,
   "metadata": {},
   "outputs": [],
   "source": [
    "def top_tfidf_feats(row, features, top_n=25):\n",
    "    ''' Get top n tfidf values in row and return them with their corresponding feature names.'''\n",
    "    topn_ids = np.argsort(row)[::-1][:top_n]\n",
    "    top_feats = [(features[i], row[i]) for i in topn_ids]\n",
    "    df = pd.DataFrame(top_feats)\n",
    "    df.columns = ['feature', 'tfidf']\n",
    "    return df"
   ]
  },
  {
   "cell_type": "code",
   "execution_count": 36,
   "metadata": {},
   "outputs": [],
   "source": [
    "def top_mean_feats(Xtr, features, grp_ids=None, min_tfidf=0.1, top_n=25):\n",
    "    ''' Return the top n features that on average are most important amongst documents in rows\n",
    "        indentified by indices in grp_ids. '''\n",
    "    if grp_ids:\n",
    "        D = Xtr[grp_ids].toarray()\n",
    "    else:\n",
    "        D = Xtr.toarray()\n",
    "\n",
    "    D[D < min_tfidf] = 0\n",
    "    tfidf_means = np.mean(D, axis=0)\n",
    "    return top_tfidf_feats(tfidf_means, features, top_n)"
   ]
  },
  {
   "cell_type": "code",
   "execution_count": 37,
   "metadata": {},
   "outputs": [],
   "source": [
    "def top_feats_by_class(Xtr, y, features, min_tfidf=0.1, top_n=25):\n",
    "    ''' Return a list of dfs, where each df holds top_n features and their mean tfidf value\n",
    "        calculated across documents with the same class label. '''\n",
    "    dfs = []\n",
    "    labels = np.unique(y)\n",
    "    for label in labels:\n",
    "        ids = np.where(y==label)\n",
    "        feats_df = top_mean_feats(Xtr, features, ids, min_tfidf=min_tfidf, top_n=top_n)\n",
    "        feats_df.label = label\n",
    "        dfs.append(feats_df)\n",
    "    return dfs"
   ]
  },
  {
   "cell_type": "markdown",
   "metadata": {},
   "source": [
    "##### Kmeans where K = 3"
   ]
  },
  {
   "cell_type": "code",
   "execution_count": 46,
   "metadata": {},
   "outputs": [
    {
     "name": "stdout",
     "output_type": "stream",
     "text": [
      "Cluster 0\n",
      "         feature     tfidf\n",
      "0         season  0.231639\n",
      "1             10  0.028140\n",
      "2           wait  0.025221\n",
      "3           just  0.024387\n",
      "4        episode  0.022559\n",
      "5        netflix  0.020688\n",
      "6        writers  0.016164\n",
      "7       watching  0.015919\n",
      "8        started  0.015917\n",
      "9          thank  0.013940\n",
      "10  disappointed  0.013914\n",
      "11         worst  0.013872\n",
      "12         story  0.013727\n",
      "13        better  0.013033\n",
      "14        series  0.012836\n",
      "15          stop  0.012205\n",
      "16          want  0.011764\n",
      "17          love  0.011695\n",
      "18         watch  0.011538\n",
      "19       watched  0.011421\n",
      "20           don  0.011393\n",
      "21          best  0.011187\n",
      "22         loved  0.011021\n",
      "23      episodes  0.010918\n",
      "24        second  0.010848\n",
      "Cluster 1\n",
      "    feature     tfidf\n",
      "0     movie  0.145287\n",
      "1      film  0.070289\n",
      "2    action  0.053485\n",
      "3      wick  0.037010\n",
      "4      john  0.032943\n",
      "5   redford  0.029700\n",
      "6     bundy  0.024532\n",
      "7    movies  0.019706\n",
      "8     watch  0.017101\n",
      "9     keanu  0.015445\n",
      "10      fun  0.015202\n",
      "11     just  0.014953\n",
      "12    great  0.014842\n",
      "13     like  0.014716\n",
      "14    shaft  0.014706\n",
      "15      ted  0.013942\n",
      "16  sandler  0.013353\n",
      "17   scenes  0.013294\n",
      "18     didn  0.012630\n",
      "19     need  0.012271\n",
      "20    films  0.011724\n",
      "21   reeves  0.011489\n",
      "22      old  0.011452\n",
      "23     time  0.011244\n",
      "24  mystery  0.010659\n",
      "Cluster 2\n",
      "       feature     tfidf\n",
      "0       series  0.020633\n",
      "1        great  0.016656\n",
      "2         good  0.014849\n",
      "3         best  0.012965\n",
      "4          bad  0.011818\n",
      "5         just  0.011680\n",
      "6           tv  0.011197\n",
      "7       really  0.010977\n",
      "8      episode  0.010734\n",
      "9   characters  0.010224\n",
      "10        like  0.010201\n",
      "11        love  0.009359\n",
      "12       shows  0.008623\n",
      "13       watch  0.008597\n",
      "14        seen  0.008566\n",
      "15    watching  0.008378\n",
      "16       story  0.007936\n",
      "17  television  0.007552\n",
      "18        time  0.007083\n",
      "19    sherlock  0.006998\n",
      "20        book  0.006968\n",
      "21    breaking  0.006847\n",
      "22      people  0.006677\n",
      "23   character  0.006618\n",
      "24       funny  0.006599\n"
     ]
    }
   ],
   "source": [
    "cluster_description = top_feats_by_class(tf_idf, km3.labels_, feature_names, min_tfidf=0.1, top_n=25)\n",
    "\n",
    "for c in enumerate(cluster_description):\n",
    "    print(\"Cluster {}\".format(c[0]))\n",
    "    print(c[1])"
   ]
  },
  {
   "cell_type": "markdown",
   "metadata": {},
   "source": [
    "Based on the above it looks there are two clusters that are largely driven by words used to describe series vs movies. Cluster 0 seems specific to TV shows while cluster 1 is specific to movies. \n",
    "\n",
    "However, cluster 2 (our largest cluster) is also made up of mainly terms commonly used with television shows as well. This is makes it difficult to determine the specific semantic meaning between cluster 0 & cluster 2."
   ]
  },
  {
   "cell_type": "code",
   "execution_count": 47,
   "metadata": {
    "scrolled": false
   },
   "outputs": [
    {
     "name": "stdout",
     "output_type": "stream",
     "text": [
      "Cluster 0\n",
      "         feature     tfidf\n",
      "0         season  0.211458\n",
      "1       watching  0.036058\n",
      "2             10  0.025693\n",
      "3           wait  0.024525\n",
      "4           just  0.022326\n",
      "5        episode  0.020653\n",
      "6        netflix  0.019758\n",
      "7           stop  0.017428\n",
      "8          watch  0.014563\n",
      "9        started  0.014137\n",
      "10         story  0.013731\n",
      "11        series  0.013454\n",
      "12       writers  0.013416\n",
      "13          want  0.012816\n",
      "14     political  0.012781\n",
      "15         thank  0.012762\n",
      "16        second  0.012744\n",
      "17  disappointed  0.012738\n",
      "18         worst  0.012700\n",
      "19           don  0.012470\n",
      "20          love  0.012144\n",
      "21       watched  0.012129\n",
      "22        people  0.012086\n",
      "23          plot  0.011545\n",
      "24       amazing  0.011422\n",
      "Cluster 1\n",
      "    feature     tfidf\n",
      "0     movie  0.146067\n",
      "1      film  0.069117\n",
      "2    action  0.057386\n",
      "3      wick  0.039110\n",
      "4      john  0.034813\n",
      "5   redford  0.032318\n",
      "6     bundy  0.025924\n",
      "7    movies  0.021689\n",
      "8     keanu  0.016321\n",
      "9     shaft  0.015540\n",
      "10     just  0.015462\n",
      "11    watch  0.015058\n",
      "12      ted  0.014733\n",
      "13      fun  0.014667\n",
      "14  sandler  0.014110\n",
      "15     like  0.013138\n",
      "16   scenes  0.012886\n",
      "17    great  0.012868\n",
      "18     didn  0.012551\n",
      "19   reeves  0.012141\n",
      "20      old  0.012102\n",
      "21     time  0.011882\n",
      "22     need  0.011580\n",
      "23     bank  0.011255\n",
      "24    films  0.010729\n",
      "Cluster 2\n",
      "       feature     tfidf\n",
      "0        great  0.116648\n",
      "1          bad  0.079704\n",
      "2         saul  0.067557\n",
      "3     breaking  0.059161\n",
      "4         good  0.041662\n",
      "5       better  0.024204\n",
      "6   characters  0.023831\n",
      "7       acting  0.020711\n",
      "8        jimmy  0.017120\n",
      "9           tv  0.015764\n",
      "10        love  0.015551\n",
      "11       story  0.015110\n",
      "12       poppy  0.014611\n",
      "13     seasons  0.013800\n",
      "14    downhill  0.013303\n",
      "15   potential  0.013137\n",
      "16   beginning  0.013031\n",
      "17   character  0.012768\n",
      "18      really  0.012605\n",
      "19       keeps  0.012104\n",
      "20     scenery  0.011989\n",
      "21        spin  0.011863\n",
      "22        used  0.011699\n",
      "23        just  0.011514\n",
      "24     goodman  0.011251\n",
      "Cluster 3\n",
      "       feature     tfidf\n",
      "0       series  0.041166\n",
      "1         like  0.019154\n",
      "2      episode  0.017118\n",
      "3   characters  0.014578\n",
      "4     sherlock  0.013716\n",
      "5       holmes  0.013146\n",
      "6       really  0.012438\n",
      "7         just  0.011863\n",
      "8        morse  0.010753\n",
      "9           tv  0.010572\n",
      "10        wire  0.010311\n",
      "11        good  0.010137\n",
      "12       crime  0.010092\n",
      "13       watch  0.009117\n",
      "14      people  0.008800\n",
      "15      family  0.008637\n",
      "16        time  0.008431\n",
      "17   character  0.007874\n",
      "18       story  0.007830\n",
      "19          10  0.007822\n",
      "20         don  0.007391\n",
      "21    blinders  0.007049\n",
      "22    sopranos  0.006934\n",
      "23   detective  0.006882\n",
      "24        seen  0.006794\n",
      "Cluster 4\n",
      "       feature     tfidf\n",
      "0         best  0.022920\n",
      "1         good  0.013562\n",
      "2         book  0.012306\n",
      "3        funny  0.012216\n",
      "4         seen  0.011982\n",
      "5           tv  0.011811\n",
      "6         just  0.011756\n",
      "7        shows  0.011747\n",
      "8         love  0.011217\n",
      "9       really  0.010663\n",
      "10          ve  0.008895\n",
      "11  television  0.008874\n",
      "12      dexter  0.008827\n",
      "13   brilliant  0.008529\n",
      "14       awful  0.008522\n",
      "15      comedy  0.008507\n",
      "16      flawed  0.008142\n",
      "17       watch  0.008062\n",
      "18     netflix  0.007796\n",
      "19        need  0.007566\n",
      "20     amazing  0.007017\n",
      "21        dark  0.006921\n",
      "22        left  0.006732\n",
      "23     seasons  0.006724\n",
      "24        time  0.006653\n"
     ]
    }
   ],
   "source": [
    "cluster_description = top_feats_by_class(tf_idf, km5.labels_, feature_names, min_tfidf=0.1, top_n=25)\n",
    "\n",
    "for c in enumerate(cluster_description):\n",
    "    print(\"Cluster {}\".format(c[0]))\n",
    "    print(c[1])"
   ]
  },
  {
   "cell_type": "markdown",
   "metadata": {},
   "source": [
    "Similarly to above there is one cluster (Cluster 1) that seems very specific to movies while the remaining are related to television shows. While some seem very specific to certain shows like Cluster 2 looks specific to breaking bad, which makes sense as it is our smallest cluster. However, others a little more vague like Cluster 0, 3, & 4 that mentions several different shows or more general terms."
   ]
  },
  {
   "cell_type": "markdown",
   "metadata": {},
   "source": [
    "## Q3: Cluster the Reviews\n",
    "<a id='q3'></a>\n",
    "\n",
    "Explain which of the two clustering results from question 1 is preferable (if one of them is), and why."
   ]
  },
  {
   "cell_type": "code",
   "execution_count": 53,
   "metadata": {},
   "outputs": [
    {
     "name": "stdout",
     "output_type": "stream",
     "text": [
      "K-Means (k=3) silhouette score is 0.0045259664479304065\n",
      "K-Means (k=5) silhouette score is 0.005248936404982356\n"
     ]
    }
   ],
   "source": [
    "print(\"K-Means (k=3) silhouette score is {}\".format(silhouette_score(tf_idf, km3.labels_)))\n",
    "print(\"K-Means (k=5) silhouette score is {}\".format(silhouette_score(tf_idf, km5.labels_)))"
   ]
  },
  {
   "cell_type": "markdown",
   "metadata": {},
   "source": [
    "Based on a numerical measure neither of these clusterings are very good. While k=5 is a little better both are very far from 1 meaning there is a lot of overlap between the different clusters making it very difficult to differentiate between the various groups."
   ]
  },
  {
   "cell_type": "markdown",
   "metadata": {},
   "source": [
    "From a semantic perspective you can begin to see more value in the clustering with k=5 as the various title specific reviews start to bubble up. This is perhaps a good indication that a higher number of clusters closer the number to of titles we scraped reviews from would likely improve the clustering.\n",
    "\n",
    "Overall, neither clustering technique performed well from a quantitative or semantic review and a higher number of clusters would likely improve the performance of the clustering."
   ]
  },
  {
   "cell_type": "code",
   "execution_count": null,
   "metadata": {},
   "outputs": [],
   "source": []
  }
 ],
 "metadata": {
  "kernelspec": {
   "display_name": "Python 3",
   "language": "python",
   "name": "python3"
  },
  "language_info": {
   "codemirror_mode": {
    "name": "ipython",
    "version": 3
   },
   "file_extension": ".py",
   "mimetype": "text/x-python",
   "name": "python",
   "nbconvert_exporter": "python",
   "pygments_lexer": "ipython3",
   "version": "3.7.3"
  }
 },
 "nbformat": 4,
 "nbformat_minor": 2
}
