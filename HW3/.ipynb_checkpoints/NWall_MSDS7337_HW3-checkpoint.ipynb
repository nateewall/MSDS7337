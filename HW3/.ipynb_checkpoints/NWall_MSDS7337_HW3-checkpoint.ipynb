{
 "cells": [
  {
   "cell_type": "markdown",
   "metadata": {},
   "source": [
    "# MSDS 7337 Homework 3\n",
    "\n",
    "Author: Nathan Wall\n",
    "\n",
    "Date: 6/11/2019\n",
    "\n",
    "The notebook below works through the questions as part of the homework 3."
   ]
  },
  {
   "cell_type": "code",
   "execution_count": 2,
   "metadata": {},
   "outputs": [],
   "source": [
    "import pandas as pd\n",
    "import numpy as np\n",
    "import nltk"
   ]
  },
  {
   "cell_type": "markdown",
   "metadata": {},
   "source": [
    "## 1 Compare your given name with your nickname\n",
    "\n",
    "### a) Find the edit distance\n",
    "Calculation based on https://www.nltk.org/_modules/nltk/metrics/distance.html"
   ]
  },
  {
   "cell_type": "code",
   "execution_count": 32,
   "metadata": {},
   "outputs": [],
   "source": [
    "#initialize some variables & matrix\n",
    "name = 'nathan'\n",
    "nickname = 'nate'\n",
    "\n",
    "lev = []\n",
    "len1 = len(name) + 1\n",
    "len2 = len(nickname) + 1\n",
    "\n",
    "for i in range(len1):\n",
    "    lev.append([0] * len2)  # initialize 2D array to zero\n",
    "for i in range(len1):\n",
    "    lev[i][0] = i  # column 0: 0,1,2,3,4,...\n",
    "for j in range(len2):\n",
    "    lev[0][j] = j  # row 0: 0,1,2,3,4,.."
   ]
  },
  {
   "cell_type": "code",
   "execution_count": 33,
   "metadata": {},
   "outputs": [
    {
     "data": {
      "text/plain": [
       "[[0, 1, 2, 3, 4],\n",
       " [1, 0, 0, 0, 0],\n",
       " [2, 0, 0, 0, 0],\n",
       " [3, 0, 0, 0, 0],\n",
       " [4, 0, 0, 0, 0],\n",
       " [5, 0, 0, 0, 0],\n",
       " [6, 0, 0, 0, 0]]"
      ]
     },
     "execution_count": 33,
     "metadata": {},
     "output_type": "execute_result"
    }
   ],
   "source": [
    "lev"
   ]
  },
  {
   "cell_type": "markdown",
   "metadata": {},
   "source": [
    "When then loop through the strings and determine is a skip, add, or substitution is required and adjust our matrix accordingly."
   ]
  },
  {
   "cell_type": "code",
   "execution_count": 34,
   "metadata": {},
   "outputs": [],
   "source": [
    "len1 = len(name) \n",
    "len2 = len(nickname) \n",
    "# iterate over the array\n",
    "for i in range(len1):\n",
    "    for j in range(len2):\n",
    "        c1 = name[i - 1]\n",
    "        c2 = nickname[j - 1]\n",
    "        \n",
    "        # skipping a character in name\n",
    "        a = lev[i - 1][j] + 1\n",
    "        # skipping a character in nickname\n",
    "        b = lev[i][j - 1] + 1\n",
    "        # substitution\n",
    "        c = lev[i - 1][j - 1] + (1 if c1 != c2 else 0)\n",
    "\n",
    "        # pick the cheapest\n",
    "        lev[i][j] = min(a, b, c)\n"
   ]
  },
  {
   "cell_type": "code",
   "execution_count": 35,
   "metadata": {},
   "outputs": [
    {
     "data": {
      "text/plain": [
       "[[1, 1, 1, 1, 4],\n",
       " [1, 1, 2, 2, 0],\n",
       " [1, 2, 1, 2, 0],\n",
       " [1, 2, 2, 1, 0],\n",
       " [1, 2, 3, 2, 0],\n",
       " [1, 2, 2, 3, 0],\n",
       " [6, 0, 0, 0, 0]]"
      ]
     },
     "execution_count": 35,
     "metadata": {},
     "output_type": "execute_result"
    }
   ],
   "source": [
    "lev"
   ]
  },
  {
   "cell_type": "code",
   "execution_count": 38,
   "metadata": {},
   "outputs": [
    {
     "name": "stdout",
     "output_type": "stream",
     "text": [
      "The edit distance between my name & nickname is 3\n"
     ]
    }
   ],
   "source": [
    "dist = nltk.edit_distance(name, nickname)\n",
    "print(\"The edit distance between my name & nickname is {}\".format(lev[5][3]))"
   ]
  },
  {
   "cell_type": "markdown",
   "metadata": {},
   "source": [
    "Lets check our calculation against the default edit distance metric in NLTK"
   ]
  },
  {
   "cell_type": "code",
   "execution_count": 13,
   "metadata": {},
   "outputs": [
    {
     "name": "stdout",
     "output_type": "stream",
     "text": [
      "The edit distance between my name & nickname is 3\n"
     ]
    }
   ],
   "source": [
    "dist = nltk.edit_distance(name, nickname)\n",
    "print(\"The edit distance between my name & nickname is {}\".format(dist))"
   ]
  },
  {
   "cell_type": "markdown",
   "metadata": {},
   "source": [
    "### b) Percentage String Match"
   ]
  },
  {
   "cell_type": "code",
   "execution_count": 49,
   "metadata": {},
   "outputs": [
    {
     "name": "stdout",
     "output_type": "stream",
     "text": [
      "The percentage string match between my name & nickname is 83%\n"
     ]
    }
   ],
   "source": [
    "len1 = len(name) \n",
    "len2 = len(nickname) \n",
    "match = 0\n",
    "# iterate over the array\n",
    "for i in range(len1):\n",
    "    for j in range(len2):\n",
    "        if name[i] == nickname[j]:\n",
    "            match += 1\n",
    "\n",
    "print(\"The percentage string match between my name & nickname is {}%\".format(round((match/len1)*100),2))"
   ]
  },
  {
   "cell_type": "markdown",
   "metadata": {},
   "source": [
    "## 2) Removing Stopwords"
   ]
  },
  {
   "cell_type": "markdown",
   "metadata": {},
   "source": [
    "For this exercise I used the first 2 sentences of the Patrick Rothfuss, Name of The Wind. The first book of the King Killer Chronicles."
   ]
  },
  {
   "cell_type": "code",
   "execution_count": 60,
   "metadata": {},
   "outputs": [
    {
     "name": "stdout",
     "output_type": "stream",
     "text": [
      "It was night again. The Waystone Inn lay in silence and it was a silence of three parts\n"
     ]
    }
   ],
   "source": [
    "kingkiller = 'It was night again. The Waystone Inn lay in silence and it was a silence of three parts'\n",
    "print(kingkiller)"
   ]
  },
  {
   "cell_type": "code",
   "execution_count": 52,
   "metadata": {},
   "outputs": [
    {
     "name": "stderr",
     "output_type": "stream",
     "text": [
      "[nltk_data] Downloading package stopwords to /home/newall/nltk_data...\n",
      "[nltk_data]   Package stopwords is already up-to-date!\n"
     ]
    }
   ],
   "source": [
    "# Load library\n",
    "from nltk.corpus import stopwords\n",
    "nltk.download('stopwords')\n",
    "stop_words = stopwords.words('english')"
   ]
  },
  {
   "cell_type": "code",
   "execution_count": 59,
   "metadata": {},
   "outputs": [
    {
     "name": "stdout",
     "output_type": "stream",
     "text": [
      "night . waystone inn lay silence silence three parts\n"
     ]
    }
   ],
   "source": [
    "from nltk.tokenize import word_tokenize\n",
    "\n",
    "tokenized_words = word_tokenize(kingkiller.lower())\n",
    "\n",
    "cleaned = [word for word in tokenized_words if word not in stop_words]\n",
    "\n",
    "print(' '.join(cleaned))"
   ]
  },
  {
   "cell_type": "markdown",
   "metadata": {},
   "source": [
    "After giving my brother a brief overview of the task I sent him the above text and asked him to guess which book it came from. Surprisingly he was able to guess the correct book.\n",
    "\n",
    "I think the main thing he picked up on is the Waystone Inn portion of the text. This is primary locations for a significant portion of the books to date. I think the specific location keyed him into the series the text was from, then he just guessed the first book from that series. "
   ]
  },
  {
   "cell_type": "markdown",
   "metadata": {},
   "source": [
    "## 3) Stem the words"
   ]
  },
  {
   "cell_type": "code",
   "execution_count": 61,
   "metadata": {},
   "outputs": [
    {
     "name": "stdout",
     "output_type": "stream",
     "text": [
      "night:night\n",
      ".:.\n",
      "waystone:wayston\n",
      "inn:inn\n",
      "lay:lay\n",
      "silence:silenc\n",
      "silence:silenc\n",
      "three:three\n",
      "parts:part\n"
     ]
    }
   ],
   "source": [
    "from nltk.stem import PorterStemmer\n",
    "\n",
    "ps = PorterStemmer()\n",
    "\n",
    "for word in cleaned:\n",
    "    print(word + \":\" + ps.stem(word))"
   ]
  },
  {
   "cell_type": "markdown",
   "metadata": {},
   "source": [
    "Of the 8 words from the tokenized text 5 (62.5%) appear to be valid morphological roots of the word. Of the three that are not valid 2 are from the same word, 'silence'. The other is actaully pronoun, 'Waystone'."
   ]
  },
  {
   "cell_type": "code",
   "execution_count": null,
   "metadata": {},
   "outputs": [],
   "source": []
  }
 ],
 "metadata": {
  "kernelspec": {
   "display_name": "Python 3",
   "language": "python",
   "name": "python3"
  },
  "language_info": {
   "codemirror_mode": {
    "name": "ipython",
    "version": 3
   },
   "file_extension": ".py",
   "mimetype": "text/x-python",
   "name": "python",
   "nbconvert_exporter": "python",
   "pygments_lexer": "ipython3",
   "version": "3.7.3"
  }
 },
 "nbformat": 4,
 "nbformat_minor": 2
}
