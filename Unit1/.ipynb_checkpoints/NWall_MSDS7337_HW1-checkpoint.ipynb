{
 "cells": [
  {
   "cell_type": "markdown",
   "metadata": {},
   "source": [
    "# SMU NLP Course—Homework 1\n",
    "\n",
    "Author: Nathan Wall\n",
    "\n",
    "Date: 5/14/2019\n",
    "\n",
    "For this assignment we will be using three txt files from Gutenberg.org:\n",
    "\n",
    "- http://www.gutenberg.org/cache/epub/6685/pg6685.txt\n",
    "- http://www.gutenberg.org/cache/epub/14640/pg14640.txt\n",
    "- http://www.gutenberg.org/cache/epub/19923/pg19923.txt\n"
   ]
  },
  {
   "cell_type": "code",
   "execution_count": 1,
   "metadata": {},
   "outputs": [],
   "source": [
    "import numpy as np\n",
    "from urllib import request\n",
    "import nltk"
   ]
  },
  {
   "cell_type": "markdown",
   "metadata": {},
   "source": [
    "## 2) Implement a lexical diversity scoring routine\n",
    "The python function for calculating lexical diversity of a text is shown below."
   ]
  },
  {
   "cell_type": "code",
   "execution_count": 2,
   "metadata": {},
   "outputs": [],
   "source": [
    "def lexical_diversity(text):\n",
    "    return len(set(text)) / len(text)"
   ]
  },
  {
   "cell_type": "markdown",
   "metadata": {},
   "source": [
    "## 3) Go to http://www.gutenberg.org/wiki/Children%27s_Instructional_Books_(Bookshelf), and obtain three texts (of different grade levels) from the “Graded Readers” section. Report the lexical diversity score of each. Explain whether the result was surprising"
   ]
  },
  {
   "cell_type": "markdown",
   "metadata": {},
   "source": [
    "Below we will import and do some minor clean up of each of the three texts below. Due to the different patterns of the text some of the clean up around each one of .txt files was done manually."
   ]
  },
  {
   "cell_type": "code",
   "execution_count": 3,
   "metadata": {},
   "outputs": [],
   "source": [
    "levels = ['First', 'Third', 'Highschool']"
   ]
  },
  {
   "cell_type": "code",
   "execution_count": 4,
   "metadata": {},
   "outputs": [],
   "source": [
    "texts = []"
   ]
  },
  {
   "cell_type": "markdown",
   "metadata": {},
   "source": [
    "##### McGuffey's First Eclectic Reader"
   ]
  },
  {
   "cell_type": "code",
   "execution_count": 5,
   "metadata": {},
   "outputs": [],
   "source": [
    "url_a = \"http://www.gutenberg.org/cache/epub/14640/pg14640.txt\"\n",
    "r_a = request.urlopen(url_a)\n",
    "raw_a = r_a.read().decode('utf8')"
   ]
  },
  {
   "cell_type": "code",
   "execution_count": 6,
   "metadata": {},
   "outputs": [
    {
     "name": "stdout",
     "output_type": "stream",
     "text": [
      "535\n",
      "44744\n"
     ]
    }
   ],
   "source": [
    "start_a = raw_a.find(\"*** START OF THIS PROJECT GUTENBERG EBOOK MCGUFFEY'S FIRST READER ***\")\n",
    "print(start_a)\n",
    "end_a = raw_a.find(\"*** END OF THIS PROJECT GUTENBERG EBOOK MCGUFFEY'S FIRST READER ***\")\n",
    "print(end_a)"
   ]
  },
  {
   "cell_type": "code",
   "execution_count": 7,
   "metadata": {},
   "outputs": [],
   "source": [
    "raw_a = raw_a[start_a:end_a]\n",
    "tokens_a = nltk.word_tokenize(raw_a)"
   ]
  },
  {
   "cell_type": "code",
   "execution_count": 8,
   "metadata": {},
   "outputs": [],
   "source": [
    "texts.append(tokens_a)"
   ]
  },
  {
   "cell_type": "markdown",
   "metadata": {},
   "source": [
    "##### Story Hour Readers Book Three"
   ]
  },
  {
   "cell_type": "code",
   "execution_count": 9,
   "metadata": {},
   "outputs": [],
   "source": [
    "url_b = \"http://www.gutenberg.org/cache/epub/6685/pg6685.txt\"\n",
    "r_b = request.urlopen(url_b)\n",
    "raw_b = r_b.read().decode('utf8')"
   ]
  },
  {
   "cell_type": "code",
   "execution_count": 10,
   "metadata": {},
   "outputs": [
    {
     "name": "stdout",
     "output_type": "stream",
     "text": [
      "780\n",
      "137169\n"
     ]
    }
   ],
   "source": [
    "start_b = raw_b.find(\"*** START OF THIS PROJECT GUTENBERG EBOOK STORY HOUR READERS  BOOK THREE ***\")\n",
    "print(start_b)\n",
    "end_b = raw_b.find(\"*** END OF THIS PROJECT GUTENBERG EBOOK STORY HOUR READERS  BOOK THREE ***\")\n",
    "print(end_b)"
   ]
  },
  {
   "cell_type": "code",
   "execution_count": 11,
   "metadata": {},
   "outputs": [],
   "source": [
    "raw_b = raw_b[start_b:end_b]\n",
    "tokens_b = nltk.word_tokenize(raw_b)"
   ]
  },
  {
   "cell_type": "code",
   "execution_count": 12,
   "metadata": {},
   "outputs": [],
   "source": [
    "texts.append(tokens_b)"
   ]
  },
  {
   "cell_type": "markdown",
   "metadata": {},
   "source": [
    "##### The Ontario Readers: The High School Reader"
   ]
  },
  {
   "cell_type": "code",
   "execution_count": 13,
   "metadata": {},
   "outputs": [],
   "source": [
    "url_c = \"http://www.gutenberg.org/cache/epub/19923/pg19923.txt\"\n",
    "r_c = request.urlopen(url_c)\n",
    "raw_c = r_c.read().decode('utf8')"
   ]
  },
  {
   "cell_type": "code",
   "execution_count": 14,
   "metadata": {},
   "outputs": [
    {
     "name": "stdout",
     "output_type": "stream",
     "text": [
      "535\n",
      "765918\n"
     ]
    }
   ],
   "source": [
    "start_c = raw_c.find(\"*** START OF THIS PROJECT GUTENBERG EBOOK ONTARIO READERS ***\")\n",
    "print(start_c)\n",
    "end_c = raw_c.find(\"*** END OF THIS PROJECT GUTENBERG EBOOK ONTARIO READERS ***\")\n",
    "print(end_c)"
   ]
  },
  {
   "cell_type": "code",
   "execution_count": 15,
   "metadata": {},
   "outputs": [],
   "source": [
    "raw_c = raw_c[start_c:end_c]\n",
    "tokens_c = nltk.word_tokenize(raw_c)"
   ]
  },
  {
   "cell_type": "code",
   "execution_count": 16,
   "metadata": {},
   "outputs": [],
   "source": [
    "texts.append(tokens_c)"
   ]
  },
  {
   "cell_type": "code",
   "execution_count": 17,
   "metadata": {},
   "outputs": [
    {
     "name": "stdout",
     "output_type": "stream",
     "text": [
      "0.15680473372781065\n",
      "0.11049723756906077\n",
      "0.1110912284189946\n"
     ]
    }
   ],
   "source": [
    "for t in texts:\n",
    "    print(lexical_diversity(t))"
   ]
  },
  {
   "cell_type": "markdown",
   "metadata": {},
   "source": [
    "This is a suprising result, considering the the highest lexical diversity is actually the lowest reading level. If lexical diversity was good measure of reading level, I would have expected the 3 text to be highest as it was the only text from a highschool reading level."
   ]
  },
  {
   "cell_type": "markdown",
   "metadata": {},
   "source": [
    "## 4) Also compare the vocabulary size of the same three texts. Explain whether the result was surprising.  "
   ]
  },
  {
   "cell_type": "code",
   "execution_count": 18,
   "metadata": {},
   "outputs": [
    {
     "name": "stdout",
     "output_type": "stream",
     "text": [
      "1484\n",
      "3240\n",
      "16762\n"
     ]
    }
   ],
   "source": [
    "for t in texts:\n",
    "    print(len(set(t)))"
   ]
  },
  {
   "cell_type": "markdown",
   "metadata": {},
   "source": []
  },
  {
   "cell_type": "markdown",
   "metadata": {},
   "source": [
    "## 5) Write a paragraph arguing whether vocabulary size and lexical diversity in combination could be a better measure of text difficulty (or reading level) than either measure is by itself."
   ]
  },
  {
   "cell_type": "markdown",
   "metadata": {},
   "source": []
  }
 ],
 "metadata": {
  "kernelspec": {
   "display_name": "Python 3",
   "language": "python",
   "name": "python3"
  },
  "language_info": {
   "codemirror_mode": {
    "name": "ipython",
    "version": 3
   },
   "file_extension": ".py",
   "mimetype": "text/x-python",
   "name": "python",
   "nbconvert_exporter": "python",
   "pygments_lexer": "ipython3",
   "version": "3.7.3"
  }
 },
 "nbformat": 4,
 "nbformat_minor": 2
}
